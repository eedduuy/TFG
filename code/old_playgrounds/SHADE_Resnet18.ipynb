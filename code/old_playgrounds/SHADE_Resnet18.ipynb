{
  "nbformat": 4,
  "nbformat_minor": 0,
  "metadata": {
    "colab": {
      "provenance": [],
      "mount_file_id": "1ngxl3nnUTQecvq012vWUgr09Ije1KGRu",
      "authorship_tag": "ABX9TyMzHKrPr7mGP5kWyH3jWarx",
      "include_colab_link": true
    },
    "kernelspec": {
      "name": "python3",
      "display_name": "Python 3"
    },
    "language_info": {
      "name": "python"
    }
  },
  "cells": [
    {
      "cell_type": "markdown",
      "metadata": {
        "id": "view-in-github",
        "colab_type": "text"
      },
      "source": [
        "<a href=\"https://colab.research.google.com/github/eedduu/TFG/blob/main/code/old_playgrounds/SHADE_Resnet18.ipynb\" target=\"_parent\"><img src=\"https://colab.research.google.com/assets/colab-badge.svg\" alt=\"Open In Colab\"/></a>"
      ]
    },
    {
      "cell_type": "code",
      "execution_count": null,
      "metadata": {
        "colab": {
          "base_uri": "https://localhost:8080/"
        },
        "id": "FP1ewpEQnsoF",
        "outputId": "4228729b-c75e-474b-9f37-50bd735e4915",
        "collapsed": true
      },
      "outputs": [
        {
          "output_type": "stream",
          "name": "stdout",
          "text": [
            "Requirement already satisfied: fastai in /usr/local/lib/python3.10/dist-packages (2.7.16)\n",
            "Requirement already satisfied: pip in /usr/local/lib/python3.10/dist-packages (from fastai) (24.1.2)\n",
            "Requirement already satisfied: packaging in /usr/local/lib/python3.10/dist-packages (from fastai) (24.1)\n",
            "Requirement already satisfied: fastdownload<2,>=0.0.5 in /usr/local/lib/python3.10/dist-packages (from fastai) (0.0.7)\n",
            "Requirement already satisfied: fastcore<1.6,>=1.5.29 in /usr/local/lib/python3.10/dist-packages (from fastai) (1.5.55)\n",
            "Requirement already satisfied: torchvision>=0.11 in /usr/local/lib/python3.10/dist-packages (from fastai) (0.18.1+cu121)\n",
            "Requirement already satisfied: matplotlib in /usr/local/lib/python3.10/dist-packages (from fastai) (3.7.1)\n",
            "Requirement already satisfied: pandas in /usr/local/lib/python3.10/dist-packages (from fastai) (2.1.4)\n",
            "Requirement already satisfied: requests in /usr/local/lib/python3.10/dist-packages (from fastai) (2.32.3)\n",
            "Requirement already satisfied: pyyaml in /usr/local/lib/python3.10/dist-packages (from fastai) (6.0.2)\n",
            "Requirement already satisfied: fastprogress>=0.2.4 in /usr/local/lib/python3.10/dist-packages (from fastai) (1.0.3)\n",
            "Requirement already satisfied: pillow>=9.0.0 in /usr/local/lib/python3.10/dist-packages (from fastai) (9.4.0)\n",
            "Requirement already satisfied: scikit-learn in /usr/local/lib/python3.10/dist-packages (from fastai) (1.3.2)\n",
            "Requirement already satisfied: scipy in /usr/local/lib/python3.10/dist-packages (from fastai) (1.13.1)\n",
            "Requirement already satisfied: spacy<4 in /usr/local/lib/python3.10/dist-packages (from fastai) (3.7.5)\n",
            "Requirement already satisfied: torch<2.5,>=1.10 in /usr/local/lib/python3.10/dist-packages (from fastai) (2.3.1+cu121)\n",
            "Requirement already satisfied: spacy-legacy<3.1.0,>=3.0.11 in /usr/local/lib/python3.10/dist-packages (from spacy<4->fastai) (3.0.12)\n",
            "Requirement already satisfied: spacy-loggers<2.0.0,>=1.0.0 in /usr/local/lib/python3.10/dist-packages (from spacy<4->fastai) (1.0.5)\n",
            "Requirement already satisfied: murmurhash<1.1.0,>=0.28.0 in /usr/local/lib/python3.10/dist-packages (from spacy<4->fastai) (1.0.10)\n",
            "Requirement already satisfied: cymem<2.1.0,>=2.0.2 in /usr/local/lib/python3.10/dist-packages (from spacy<4->fastai) (2.0.8)\n",
            "Requirement already satisfied: preshed<3.1.0,>=3.0.2 in /usr/local/lib/python3.10/dist-packages (from spacy<4->fastai) (3.0.9)\n",
            "Requirement already satisfied: thinc<8.3.0,>=8.2.2 in /usr/local/lib/python3.10/dist-packages (from spacy<4->fastai) (8.2.5)\n",
            "Requirement already satisfied: wasabi<1.2.0,>=0.9.1 in /usr/local/lib/python3.10/dist-packages (from spacy<4->fastai) (1.1.3)\n",
            "Requirement already satisfied: srsly<3.0.0,>=2.4.3 in /usr/local/lib/python3.10/dist-packages (from spacy<4->fastai) (2.4.8)\n",
            "Requirement already satisfied: catalogue<2.1.0,>=2.0.6 in /usr/local/lib/python3.10/dist-packages (from spacy<4->fastai) (2.0.10)\n",
            "Requirement already satisfied: weasel<0.5.0,>=0.1.0 in /usr/local/lib/python3.10/dist-packages (from spacy<4->fastai) (0.4.1)\n",
            "Requirement already satisfied: typer<1.0.0,>=0.3.0 in /usr/local/lib/python3.10/dist-packages (from spacy<4->fastai) (0.12.3)\n",
            "Requirement already satisfied: tqdm<5.0.0,>=4.38.0 in /usr/local/lib/python3.10/dist-packages (from spacy<4->fastai) (4.66.5)\n",
            "Requirement already satisfied: pydantic!=1.8,!=1.8.1,<3.0.0,>=1.7.4 in /usr/local/lib/python3.10/dist-packages (from spacy<4->fastai) (2.8.2)\n",
            "Requirement already satisfied: jinja2 in /usr/local/lib/python3.10/dist-packages (from spacy<4->fastai) (3.1.4)\n",
            "Requirement already satisfied: setuptools in /usr/local/lib/python3.10/dist-packages (from spacy<4->fastai) (71.0.4)\n",
            "Requirement already satisfied: langcodes<4.0.0,>=3.2.0 in /usr/local/lib/python3.10/dist-packages (from spacy<4->fastai) (3.4.0)\n",
            "Requirement already satisfied: numpy>=1.19.0 in /usr/local/lib/python3.10/dist-packages (from spacy<4->fastai) (1.26.4)\n",
            "Requirement already satisfied: charset-normalizer<4,>=2 in /usr/local/lib/python3.10/dist-packages (from requests->fastai) (3.3.2)\n",
            "Requirement already satisfied: idna<4,>=2.5 in /usr/local/lib/python3.10/dist-packages (from requests->fastai) (3.7)\n",
            "Requirement already satisfied: urllib3<3,>=1.21.1 in /usr/local/lib/python3.10/dist-packages (from requests->fastai) (2.0.7)\n",
            "Requirement already satisfied: certifi>=2017.4.17 in /usr/local/lib/python3.10/dist-packages (from requests->fastai) (2024.7.4)\n",
            "Requirement already satisfied: filelock in /usr/local/lib/python3.10/dist-packages (from torch<2.5,>=1.10->fastai) (3.15.4)\n",
            "Requirement already satisfied: typing-extensions>=4.8.0 in /usr/local/lib/python3.10/dist-packages (from torch<2.5,>=1.10->fastai) (4.12.2)\n",
            "Requirement already satisfied: sympy in /usr/local/lib/python3.10/dist-packages (from torch<2.5,>=1.10->fastai) (1.13.1)\n",
            "Requirement already satisfied: networkx in /usr/local/lib/python3.10/dist-packages (from torch<2.5,>=1.10->fastai) (3.3)\n",
            "Requirement already satisfied: fsspec in /usr/local/lib/python3.10/dist-packages (from torch<2.5,>=1.10->fastai) (2024.6.1)\n",
            "Collecting nvidia-cuda-nvrtc-cu12==12.1.105 (from torch<2.5,>=1.10->fastai)\n",
            "  Using cached nvidia_cuda_nvrtc_cu12-12.1.105-py3-none-manylinux1_x86_64.whl.metadata (1.5 kB)\n",
            "Collecting nvidia-cuda-runtime-cu12==12.1.105 (from torch<2.5,>=1.10->fastai)\n",
            "  Using cached nvidia_cuda_runtime_cu12-12.1.105-py3-none-manylinux1_x86_64.whl.metadata (1.5 kB)\n",
            "Collecting nvidia-cuda-cupti-cu12==12.1.105 (from torch<2.5,>=1.10->fastai)\n",
            "  Using cached nvidia_cuda_cupti_cu12-12.1.105-py3-none-manylinux1_x86_64.whl.metadata (1.6 kB)\n",
            "Collecting nvidia-cudnn-cu12==8.9.2.26 (from torch<2.5,>=1.10->fastai)\n",
            "  Using cached nvidia_cudnn_cu12-8.9.2.26-py3-none-manylinux1_x86_64.whl.metadata (1.6 kB)\n",
            "Collecting nvidia-cublas-cu12==12.1.3.1 (from torch<2.5,>=1.10->fastai)\n",
            "  Using cached nvidia_cublas_cu12-12.1.3.1-py3-none-manylinux1_x86_64.whl.metadata (1.5 kB)\n",
            "Collecting nvidia-cufft-cu12==11.0.2.54 (from torch<2.5,>=1.10->fastai)\n",
            "  Using cached nvidia_cufft_cu12-11.0.2.54-py3-none-manylinux1_x86_64.whl.metadata (1.5 kB)\n",
            "Collecting nvidia-curand-cu12==10.3.2.106 (from torch<2.5,>=1.10->fastai)\n",
            "  Using cached nvidia_curand_cu12-10.3.2.106-py3-none-manylinux1_x86_64.whl.metadata (1.5 kB)\n",
            "Collecting nvidia-cusolver-cu12==11.4.5.107 (from torch<2.5,>=1.10->fastai)\n",
            "  Using cached nvidia_cusolver_cu12-11.4.5.107-py3-none-manylinux1_x86_64.whl.metadata (1.6 kB)\n",
            "Collecting nvidia-cusparse-cu12==12.1.0.106 (from torch<2.5,>=1.10->fastai)\n",
            "  Using cached nvidia_cusparse_cu12-12.1.0.106-py3-none-manylinux1_x86_64.whl.metadata (1.6 kB)\n",
            "Collecting nvidia-nccl-cu12==2.20.5 (from torch<2.5,>=1.10->fastai)\n",
            "  Using cached nvidia_nccl_cu12-2.20.5-py3-none-manylinux2014_x86_64.whl.metadata (1.8 kB)\n",
            "Collecting nvidia-nvtx-cu12==12.1.105 (from torch<2.5,>=1.10->fastai)\n",
            "  Using cached nvidia_nvtx_cu12-12.1.105-py3-none-manylinux1_x86_64.whl.metadata (1.7 kB)\n",
            "Requirement already satisfied: triton==2.3.1 in /usr/local/lib/python3.10/dist-packages (from torch<2.5,>=1.10->fastai) (2.3.1)\n",
            "Collecting nvidia-nvjitlink-cu12 (from nvidia-cusolver-cu12==11.4.5.107->torch<2.5,>=1.10->fastai)\n",
            "  Using cached nvidia_nvjitlink_cu12-12.6.20-py3-none-manylinux2014_x86_64.whl.metadata (1.5 kB)\n",
            "Requirement already satisfied: contourpy>=1.0.1 in /usr/local/lib/python3.10/dist-packages (from matplotlib->fastai) (1.2.1)\n",
            "Requirement already satisfied: cycler>=0.10 in /usr/local/lib/python3.10/dist-packages (from matplotlib->fastai) (0.12.1)\n",
            "Requirement already satisfied: fonttools>=4.22.0 in /usr/local/lib/python3.10/dist-packages (from matplotlib->fastai) (4.53.1)\n",
            "Requirement already satisfied: kiwisolver>=1.0.1 in /usr/local/lib/python3.10/dist-packages (from matplotlib->fastai) (1.4.5)\n",
            "Requirement already satisfied: pyparsing>=2.3.1 in /usr/local/lib/python3.10/dist-packages (from matplotlib->fastai) (3.1.2)\n",
            "Requirement already satisfied: python-dateutil>=2.7 in /usr/local/lib/python3.10/dist-packages (from matplotlib->fastai) (2.8.2)\n",
            "Requirement already satisfied: pytz>=2020.1 in /usr/local/lib/python3.10/dist-packages (from pandas->fastai) (2024.1)\n",
            "Requirement already satisfied: tzdata>=2022.1 in /usr/local/lib/python3.10/dist-packages (from pandas->fastai) (2024.1)\n",
            "Requirement already satisfied: joblib>=1.1.1 in /usr/local/lib/python3.10/dist-packages (from scikit-learn->fastai) (1.4.2)\n",
            "Requirement already satisfied: threadpoolctl>=2.0.0 in /usr/local/lib/python3.10/dist-packages (from scikit-learn->fastai) (3.5.0)\n",
            "Requirement already satisfied: language-data>=1.2 in /usr/local/lib/python3.10/dist-packages (from langcodes<4.0.0,>=3.2.0->spacy<4->fastai) (1.2.0)\n",
            "Requirement already satisfied: annotated-types>=0.4.0 in /usr/local/lib/python3.10/dist-packages (from pydantic!=1.8,!=1.8.1,<3.0.0,>=1.7.4->spacy<4->fastai) (0.7.0)\n",
            "Requirement already satisfied: pydantic-core==2.20.1 in /usr/local/lib/python3.10/dist-packages (from pydantic!=1.8,!=1.8.1,<3.0.0,>=1.7.4->spacy<4->fastai) (2.20.1)\n",
            "Requirement already satisfied: six>=1.5 in /usr/local/lib/python3.10/dist-packages (from python-dateutil>=2.7->matplotlib->fastai) (1.16.0)\n",
            "Requirement already satisfied: blis<0.8.0,>=0.7.8 in /usr/local/lib/python3.10/dist-packages (from thinc<8.3.0,>=8.2.2->spacy<4->fastai) (0.7.11)\n",
            "Requirement already satisfied: confection<1.0.0,>=0.0.1 in /usr/local/lib/python3.10/dist-packages (from thinc<8.3.0,>=8.2.2->spacy<4->fastai) (0.1.5)\n",
            "Requirement already satisfied: click>=8.0.0 in /usr/local/lib/python3.10/dist-packages (from typer<1.0.0,>=0.3.0->spacy<4->fastai) (8.1.7)\n",
            "Requirement already satisfied: shellingham>=1.3.0 in /usr/local/lib/python3.10/dist-packages (from typer<1.0.0,>=0.3.0->spacy<4->fastai) (1.5.4)\n",
            "Requirement already satisfied: rich>=10.11.0 in /usr/local/lib/python3.10/dist-packages (from typer<1.0.0,>=0.3.0->spacy<4->fastai) (13.7.1)\n",
            "Requirement already satisfied: cloudpathlib<1.0.0,>=0.7.0 in /usr/local/lib/python3.10/dist-packages (from weasel<0.5.0,>=0.1.0->spacy<4->fastai) (0.18.1)\n",
            "Requirement already satisfied: smart-open<8.0.0,>=5.2.1 in /usr/local/lib/python3.10/dist-packages (from weasel<0.5.0,>=0.1.0->spacy<4->fastai) (7.0.4)\n",
            "Requirement already satisfied: MarkupSafe>=2.0 in /usr/local/lib/python3.10/dist-packages (from jinja2->spacy<4->fastai) (2.1.5)\n",
            "Requirement already satisfied: mpmath<1.4,>=1.1.0 in /usr/local/lib/python3.10/dist-packages (from sympy->torch<2.5,>=1.10->fastai) (1.3.0)\n",
            "Requirement already satisfied: marisa-trie>=0.7.7 in /usr/local/lib/python3.10/dist-packages (from language-data>=1.2->langcodes<4.0.0,>=3.2.0->spacy<4->fastai) (1.2.0)\n",
            "Requirement already satisfied: markdown-it-py>=2.2.0 in /usr/local/lib/python3.10/dist-packages (from rich>=10.11.0->typer<1.0.0,>=0.3.0->spacy<4->fastai) (3.0.0)\n",
            "Requirement already satisfied: pygments<3.0.0,>=2.13.0 in /usr/local/lib/python3.10/dist-packages (from rich>=10.11.0->typer<1.0.0,>=0.3.0->spacy<4->fastai) (2.16.1)\n",
            "Requirement already satisfied: wrapt in /usr/local/lib/python3.10/dist-packages (from smart-open<8.0.0,>=5.2.1->weasel<0.5.0,>=0.1.0->spacy<4->fastai) (1.16.0)\n",
            "Requirement already satisfied: mdurl~=0.1 in /usr/local/lib/python3.10/dist-packages (from markdown-it-py>=2.2.0->rich>=10.11.0->typer<1.0.0,>=0.3.0->spacy<4->fastai) (0.1.2)\n",
            "Using cached nvidia_cublas_cu12-12.1.3.1-py3-none-manylinux1_x86_64.whl (410.6 MB)\n",
            "Using cached nvidia_cuda_cupti_cu12-12.1.105-py3-none-manylinux1_x86_64.whl (14.1 MB)\n",
            "Using cached nvidia_cuda_nvrtc_cu12-12.1.105-py3-none-manylinux1_x86_64.whl (23.7 MB)\n",
            "Using cached nvidia_cuda_runtime_cu12-12.1.105-py3-none-manylinux1_x86_64.whl (823 kB)\n",
            "Using cached nvidia_cudnn_cu12-8.9.2.26-py3-none-manylinux1_x86_64.whl (731.7 MB)\n",
            "Using cached nvidia_cufft_cu12-11.0.2.54-py3-none-manylinux1_x86_64.whl (121.6 MB)\n",
            "Using cached nvidia_curand_cu12-10.3.2.106-py3-none-manylinux1_x86_64.whl (56.5 MB)\n",
            "Using cached nvidia_cusolver_cu12-11.4.5.107-py3-none-manylinux1_x86_64.whl (124.2 MB)\n",
            "Using cached nvidia_cusparse_cu12-12.1.0.106-py3-none-manylinux1_x86_64.whl (196.0 MB)\n",
            "Using cached nvidia_nccl_cu12-2.20.5-py3-none-manylinux2014_x86_64.whl (176.2 MB)\n",
            "Using cached nvidia_nvtx_cu12-12.1.105-py3-none-manylinux1_x86_64.whl (99 kB)\n",
            "Using cached nvidia_nvjitlink_cu12-12.6.20-py3-none-manylinux2014_x86_64.whl (19.7 MB)\n",
            "Installing collected packages: nvidia-nvtx-cu12, nvidia-nvjitlink-cu12, nvidia-nccl-cu12, nvidia-curand-cu12, nvidia-cufft-cu12, nvidia-cuda-runtime-cu12, nvidia-cuda-nvrtc-cu12, nvidia-cuda-cupti-cu12, nvidia-cublas-cu12, nvidia-cusparse-cu12, nvidia-cudnn-cu12, nvidia-cusolver-cu12\n",
            "Successfully installed nvidia-cublas-cu12-12.1.3.1 nvidia-cuda-cupti-cu12-12.1.105 nvidia-cuda-nvrtc-cu12-12.1.105 nvidia-cuda-runtime-cu12-12.1.105 nvidia-cudnn-cu12-8.9.2.26 nvidia-cufft-cu12-11.0.2.54 nvidia-curand-cu12-10.3.2.106 nvidia-cusolver-cu12-11.4.5.107 nvidia-cusparse-cu12-12.1.0.106 nvidia-nccl-cu12-2.20.5 nvidia-nvjitlink-cu12-12.6.20 nvidia-nvtx-cu12-12.1.105\n",
            "Collecting nbdev\n",
            "  Downloading nbdev-2.3.27-py3-none-any.whl.metadata (10 kB)\n",
            "Requirement already satisfied: packaging in /usr/local/lib/python3.10/dist-packages (from nbdev) (24.1)\n",
            "Requirement already satisfied: fastcore>=1.5.27 in /usr/local/lib/python3.10/dist-packages (from nbdev) (1.5.55)\n",
            "Collecting execnb>=0.1.4 (from nbdev)\n",
            "  Downloading execnb-0.1.6-py3-none-any.whl.metadata (3.2 kB)\n",
            "Requirement already satisfied: astunparse in /usr/local/lib/python3.10/dist-packages (from nbdev) (1.6.3)\n",
            "Collecting ghapi>=1.0.3 (from nbdev)\n",
            "  Downloading ghapi-1.0.5-py3-none-any.whl.metadata (13 kB)\n",
            "Collecting watchdog (from nbdev)\n",
            "  Downloading watchdog-4.0.2-py3-none-manylinux2014_x86_64.whl.metadata (38 kB)\n",
            "Collecting asttokens (from nbdev)\n",
            "  Downloading asttokens-2.4.1-py2.py3-none-any.whl.metadata (5.2 kB)\n",
            "Requirement already satisfied: PyYAML in /usr/local/lib/python3.10/dist-packages (from nbdev) (6.0.2)\n",
            "Requirement already satisfied: ipython in /usr/local/lib/python3.10/dist-packages (from execnb>=0.1.4->nbdev) (7.34.0)\n",
            "Requirement already satisfied: pip in /usr/local/lib/python3.10/dist-packages (from ghapi>=1.0.3->nbdev) (24.1.2)\n",
            "Requirement already satisfied: six>=1.12.0 in /usr/local/lib/python3.10/dist-packages (from asttokens->nbdev) (1.16.0)\n",
            "Requirement already satisfied: wheel<1.0,>=0.23.0 in /usr/local/lib/python3.10/dist-packages (from astunparse->nbdev) (0.44.0)\n",
            "Requirement already satisfied: setuptools>=18.5 in /usr/local/lib/python3.10/dist-packages (from ipython->execnb>=0.1.4->nbdev) (71.0.4)\n",
            "Collecting jedi>=0.16 (from ipython->execnb>=0.1.4->nbdev)\n",
            "  Using cached jedi-0.19.1-py2.py3-none-any.whl.metadata (22 kB)\n",
            "Requirement already satisfied: decorator in /usr/local/lib/python3.10/dist-packages (from ipython->execnb>=0.1.4->nbdev) (4.4.2)\n",
            "Requirement already satisfied: pickleshare in /usr/local/lib/python3.10/dist-packages (from ipython->execnb>=0.1.4->nbdev) (0.7.5)\n",
            "Requirement already satisfied: traitlets>=4.2 in /usr/local/lib/python3.10/dist-packages (from ipython->execnb>=0.1.4->nbdev) (5.7.1)\n",
            "Requirement already satisfied: prompt-toolkit!=3.0.0,!=3.0.1,<3.1.0,>=2.0.0 in /usr/local/lib/python3.10/dist-packages (from ipython->execnb>=0.1.4->nbdev) (3.0.47)\n",
            "Requirement already satisfied: pygments in /usr/local/lib/python3.10/dist-packages (from ipython->execnb>=0.1.4->nbdev) (2.16.1)\n",
            "Requirement already satisfied: backcall in /usr/local/lib/python3.10/dist-packages (from ipython->execnb>=0.1.4->nbdev) (0.2.0)\n",
            "Requirement already satisfied: matplotlib-inline in /usr/local/lib/python3.10/dist-packages (from ipython->execnb>=0.1.4->nbdev) (0.1.7)\n",
            "Requirement already satisfied: pexpect>4.3 in /usr/local/lib/python3.10/dist-packages (from ipython->execnb>=0.1.4->nbdev) (4.9.0)\n",
            "Requirement already satisfied: parso<0.9.0,>=0.8.3 in /usr/local/lib/python3.10/dist-packages (from jedi>=0.16->ipython->execnb>=0.1.4->nbdev) (0.8.4)\n",
            "Requirement already satisfied: ptyprocess>=0.5 in /usr/local/lib/python3.10/dist-packages (from pexpect>4.3->ipython->execnb>=0.1.4->nbdev) (0.7.0)\n",
            "Requirement already satisfied: wcwidth in /usr/local/lib/python3.10/dist-packages (from prompt-toolkit!=3.0.0,!=3.0.1,<3.1.0,>=2.0.0->ipython->execnb>=0.1.4->nbdev) (0.2.13)\n",
            "Downloading nbdev-2.3.27-py3-none-any.whl (67 kB)\n",
            "\u001b[2K   \u001b[90m━━━━━━━━━━━━━━━━━━━━━━━━━━━━━━━━━━━━━━━━\u001b[0m \u001b[32m67.3/67.3 kB\u001b[0m \u001b[31m5.7 MB/s\u001b[0m eta \u001b[36m0:00:00\u001b[0m\n",
            "\u001b[?25hDownloading execnb-0.1.6-py3-none-any.whl (14 kB)\n",
            "Downloading ghapi-1.0.5-py3-none-any.whl (60 kB)\n",
            "\u001b[2K   \u001b[90m━━━━━━━━━━━━━━━━━━━━━━━━━━━━━━━━━━━━━━━━\u001b[0m \u001b[32m60.8/60.8 kB\u001b[0m \u001b[31m5.6 MB/s\u001b[0m eta \u001b[36m0:00:00\u001b[0m\n",
            "\u001b[?25hDownloading asttokens-2.4.1-py2.py3-none-any.whl (27 kB)\n",
            "Downloading watchdog-4.0.2-py3-none-manylinux2014_x86_64.whl (82 kB)\n",
            "\u001b[2K   \u001b[90m━━━━━━━━━━━━━━━━━━━━━━━━━━━━━━━━━━━━━━━━\u001b[0m \u001b[32m82.9/82.9 kB\u001b[0m \u001b[31m7.3 MB/s\u001b[0m eta \u001b[36m0:00:00\u001b[0m\n",
            "\u001b[?25hUsing cached jedi-0.19.1-py2.py3-none-any.whl (1.6 MB)\n",
            "Installing collected packages: watchdog, jedi, asttokens, ghapi, execnb, nbdev\n",
            "Successfully installed asttokens-2.4.1 execnb-0.1.6 ghapi-1.0.5 jedi-0.19.1 nbdev-2.3.27 watchdog-4.0.2\n"
          ]
        }
      ],
      "source": [
        "!pip install fastai\n",
        "!pip install nbdev"
      ]
    },
    {
      "cell_type": "code",
      "source": [
        "import numpy as np\n",
        "from fastai.tabular.all import *\n",
        "from sklearn.model_selection import train_test_split\n",
        "from sklearn.model_selection import StratifiedKFold\n",
        "from nbdev.showdoc import *\n",
        "from fastai.vision.all import *\n",
        "import torch.nn.functional as F\n",
        "import torchvision.transforms.functional as FF\n",
        "import numpy\n",
        "import torchvision\n",
        "from torchvision import *\n",
        "import fastai\n",
        "import fastcore\n",
        "import torch\n",
        "import torch.nn as nn\n",
        "import torch.optim as optim"
      ],
      "metadata": {
        "id": "wgsC5zc1n2I4"
      },
      "execution_count": null,
      "outputs": []
    },
    {
      "cell_type": "code",
      "source": [
        "class BottleneckBlock(nn.Module):\n",
        "    def __init__(self, in_channels, out_channels, stride=1, bottleneck_ratio=4):\n",
        "        super(BottleneckBlock, self).__init__()\n",
        "        bottleneck_channels = out_channels // bottleneck_ratio\n",
        "\n",
        "        self.conv1 = nn.Conv2d(in_channels, bottleneck_channels, kernel_size=1, stride=1, padding=0, bias=False)\n",
        "        self.bn1 = nn.BatchNorm2d(bottleneck_channels)\n",
        "\n",
        "        self.conv2 = nn.Conv2d(bottleneck_channels, bottleneck_channels, kernel_size=3, stride=stride, padding=1, bias=False)\n",
        "        self.bn2 = nn.BatchNorm2d(bottleneck_channels)\n",
        "\n",
        "        self.conv3 = nn.Conv2d(bottleneck_channels, out_channels, kernel_size=1, stride=1, padding=0, bias=False)\n",
        "        self.bn3 = nn.BatchNorm2d(out_channels)\n",
        "\n",
        "        self.relu = nn.ReLU(inplace=True)\n",
        "\n",
        "        self.downsample = None\n",
        "        if stride != 1 or in_channels != out_channels:\n",
        "            self.downsample = nn.Sequential(\n",
        "                nn.Conv2d(in_channels, out_channels, kernel_size=1, stride=stride, bias=False),\n",
        "                nn.BatchNorm2d(out_channels),\n",
        "            )\n",
        "\n",
        "    def forward(self, x):\n",
        "        identity = x\n",
        "\n",
        "        out = self.conv1(x)\n",
        "        out = self.bn1(out)\n",
        "        out = self.relu(out)\n",
        "\n",
        "        out = self.conv2(out)\n",
        "        out = self.bn2(out)\n",
        "        out = self.relu(out)\n",
        "\n",
        "        out = self.conv3(out)\n",
        "        out = self.bn3(out)\n",
        "\n",
        "        if self.downsample is not None:\n",
        "            identity = self.downsample(x)\n",
        "\n",
        "        out += identity\n",
        "        out = self.relu(out)\n",
        "\n",
        "        return out\n",
        "\n",
        "class ResNet12WithBottlenecks(nn.Module):\n",
        "    def __init__(self, num_classes=1000):\n",
        "        super(ResNet12WithBottlenecks, self).__init__()\n",
        "        self.in_channels = 64\n",
        "\n",
        "        # First layer now accepts 3 input channels instead of 64\n",
        "        self.layer1 = self._make_layer(64, 3, stride=1, input_channels=3)\n",
        "        self.layer2 = self._make_layer(128, 3, stride=2)\n",
        "        self.layer3 = self._make_layer(256, 3, stride=2)\n",
        "        self.layer4 = self._make_layer(256, 3, stride=2)\n",
        "        self.layer5 = self._make_layer(512, 3, stride=2)\n",
        "\n",
        "        self.avgpool = nn.AdaptiveAvgPool2d((1, 1))\n",
        "        self.bn1 = nn.BatchNorm1d(512)\n",
        "        self.dropout1 = nn.Dropout(0.5)\n",
        "        self.fc1 = nn.Linear(512, 256)\n",
        "        self.bn2 = nn.BatchNorm1d(256)\n",
        "        self.dropout2 = nn.Dropout(0.5)\n",
        "        self.fc2 = nn.Linear(256, num_classes)\n",
        "        self.relu = nn.ReLU(inplace=True)\n",
        "\n",
        "    def _make_layer(self, out_channels, blocks, stride, input_channels=None):\n",
        "        layers = []\n",
        "\n",
        "        # Set input channels for the first block of the first layer\n",
        "        if input_channels:\n",
        "            self.in_channels = input_channels\n",
        "\n",
        "        layers.append(BottleneckBlock(self.in_channels, out_channels, stride))\n",
        "        self.in_channels = out_channels\n",
        "        for _ in range(1, blocks):\n",
        "            layers.append(BottleneckBlock(self.in_channels, out_channels))\n",
        "        return nn.Sequential(*layers)\n",
        "\n",
        "    def forward(self, x):\n",
        "        x = self.layer1(x)\n",
        "        x = self.layer2(x)\n",
        "        x = self.layer3(x)\n",
        "        x = self.layer4(x)\n",
        "        x = self.layer5(x)\n",
        "        x = self.avgpool(x)\n",
        "        x = torch.flatten(x, 1)\n",
        "        x = self.bn1(x)\n",
        "        x = self.dropout1(x)\n",
        "        x = self.fc1(x)\n",
        "        x = self.relu(x)\n",
        "        x = self.bn2(x)\n",
        "        x = self.dropout2(x)\n",
        "        x = self.fc2(x)\n",
        "\n",
        "\n",
        "        return x\n"
      ],
      "metadata": {
        "id": "fLDiCFq-uGm4"
      },
      "execution_count": null,
      "outputs": []
    },
    {
      "cell_type": "code",
      "source": [
        "#Load CIFAR-10 dataset from FastAI\n",
        "\n",
        "path = untar_data(URLs.IMAGENETTE)\n",
        "dls = ImageDataLoaders.from_folder(path, valid='val', bs=128, item_tfms=Resize(32), shuffle=True)\n",
        "\n",
        "#Using Resnet18 not pre-trained as the model to work with CIFAR-10\n",
        "\n",
        "modelo = ResNet12WithBottlenecks(num_classes=dls.c)\n",
        "LEARN = Learner(dls, modelo, metrics=accuracy)\n",
        "\n",
        "#LEARN.model.to('cuda')\n",
        "#LEARN.dls.to('cuda')\n"
      ],
      "metadata": {
        "id": "dUKljaL9JnCc"
      },
      "execution_count": null,
      "outputs": []
    },
    {
      "cell_type": "code",
      "source": [
        "tabular_learner(layers=[16, 32, 64, 128, 256, 512, 1024, 2048,1024, 512, 256, 128, 64, 32, 16], dls=dls).summary()"
      ],
      "metadata": {
        "colab": {
          "base_uri": "https://localhost:8080/",
          "height": 293
        },
        "id": "bqoqUfkU7Iki",
        "outputId": "f62405c0-0a88-4e78-a30a-8909cd4cc0c6"
      },
      "execution_count": null,
      "outputs": [
        {
          "output_type": "error",
          "ename": "AttributeError",
          "evalue": "cat_names",
          "traceback": [
            "\u001b[0;31m---------------------------------------------------------------------------\u001b[0m",
            "\u001b[0;31mAttributeError\u001b[0m                            Traceback (most recent call last)",
            "\u001b[0;32m<ipython-input-10-f10ee1d041ce>\u001b[0m in \u001b[0;36m<cell line: 1>\u001b[0;34m()\u001b[0m\n\u001b[0;32m----> 1\u001b[0;31m \u001b[0mtabular_learner\u001b[0m\u001b[0;34m(\u001b[0m\u001b[0mlayers\u001b[0m\u001b[0;34m=\u001b[0m\u001b[0;34m[\u001b[0m\u001b[0;36m16\u001b[0m\u001b[0;34m,\u001b[0m \u001b[0;36m32\u001b[0m\u001b[0;34m,\u001b[0m \u001b[0;36m64\u001b[0m\u001b[0;34m,\u001b[0m \u001b[0;36m128\u001b[0m\u001b[0;34m,\u001b[0m \u001b[0;36m256\u001b[0m\u001b[0;34m,\u001b[0m \u001b[0;36m512\u001b[0m\u001b[0;34m,\u001b[0m \u001b[0;36m1024\u001b[0m\u001b[0;34m,\u001b[0m \u001b[0;36m2048\u001b[0m\u001b[0;34m,\u001b[0m\u001b[0;36m1024\u001b[0m\u001b[0;34m,\u001b[0m \u001b[0;36m512\u001b[0m\u001b[0;34m,\u001b[0m \u001b[0;36m256\u001b[0m\u001b[0;34m,\u001b[0m \u001b[0;36m128\u001b[0m\u001b[0;34m,\u001b[0m \u001b[0;36m64\u001b[0m\u001b[0;34m,\u001b[0m \u001b[0;36m32\u001b[0m\u001b[0;34m,\u001b[0m \u001b[0;36m16\u001b[0m\u001b[0;34m]\u001b[0m\u001b[0;34m,\u001b[0m \u001b[0mdls\u001b[0m\u001b[0;34m=\u001b[0m\u001b[0mdls\u001b[0m\u001b[0;34m)\u001b[0m\u001b[0;34m.\u001b[0m\u001b[0msummary\u001b[0m\u001b[0;34m(\u001b[0m\u001b[0;34m)\u001b[0m\u001b[0;34m\u001b[0m\u001b[0;34m\u001b[0m\u001b[0m\n\u001b[0m",
            "\u001b[0;32m/usr/local/lib/python3.10/dist-packages/fastai/tabular/learner.py\u001b[0m in \u001b[0;36mtabular_learner\u001b[0;34m(dls, layers, emb_szs, config, n_out, y_range, **kwargs)\u001b[0m\n\u001b[1;32m     40\u001b[0m     \u001b[0;32mif\u001b[0m \u001b[0mlayers\u001b[0m \u001b[0;32mis\u001b[0m \u001b[0;32mNone\u001b[0m\u001b[0;34m:\u001b[0m \u001b[0mlayers\u001b[0m \u001b[0;34m=\u001b[0m \u001b[0;34m[\u001b[0m\u001b[0;36m200\u001b[0m\u001b[0;34m,\u001b[0m\u001b[0;36m100\u001b[0m\u001b[0;34m]\u001b[0m\u001b[0;34m\u001b[0m\u001b[0;34m\u001b[0m\u001b[0m\n\u001b[1;32m     41\u001b[0m     \u001b[0mto\u001b[0m \u001b[0;34m=\u001b[0m \u001b[0mdls\u001b[0m\u001b[0;34m.\u001b[0m\u001b[0mtrain_ds\u001b[0m\u001b[0;34m\u001b[0m\u001b[0;34m\u001b[0m\u001b[0m\n\u001b[0;32m---> 42\u001b[0;31m     \u001b[0memb_szs\u001b[0m \u001b[0;34m=\u001b[0m \u001b[0mget_emb_sz\u001b[0m\u001b[0;34m(\u001b[0m\u001b[0mdls\u001b[0m\u001b[0;34m.\u001b[0m\u001b[0mtrain_ds\u001b[0m\u001b[0;34m,\u001b[0m \u001b[0;34m{\u001b[0m\u001b[0;34m}\u001b[0m \u001b[0;32mif\u001b[0m \u001b[0memb_szs\u001b[0m \u001b[0;32mis\u001b[0m \u001b[0;32mNone\u001b[0m \u001b[0;32melse\u001b[0m \u001b[0memb_szs\u001b[0m\u001b[0;34m)\u001b[0m\u001b[0;34m\u001b[0m\u001b[0;34m\u001b[0m\u001b[0m\n\u001b[0m\u001b[1;32m     43\u001b[0m     \u001b[0;32mif\u001b[0m \u001b[0mn_out\u001b[0m \u001b[0;32mis\u001b[0m \u001b[0;32mNone\u001b[0m\u001b[0;34m:\u001b[0m \u001b[0mn_out\u001b[0m \u001b[0;34m=\u001b[0m \u001b[0mget_c\u001b[0m\u001b[0;34m(\u001b[0m\u001b[0mdls\u001b[0m\u001b[0;34m)\u001b[0m\u001b[0;34m\u001b[0m\u001b[0;34m\u001b[0m\u001b[0m\n\u001b[1;32m     44\u001b[0m     \u001b[0;32massert\u001b[0m \u001b[0mn_out\u001b[0m\u001b[0;34m,\u001b[0m \u001b[0;34m\"`n_out` is not defined, and could not be inferred from data, set `dls.c` or pass `n_out`\"\u001b[0m\u001b[0;34m\u001b[0m\u001b[0;34m\u001b[0m\u001b[0m\n",
            "\u001b[0;32m/usr/local/lib/python3.10/dist-packages/fastai/tabular/model.py\u001b[0m in \u001b[0;36mget_emb_sz\u001b[0;34m(to, sz_dict)\u001b[0m\n\u001b[1;32m     30\u001b[0m ) -> list: # List of embedding sizes for each category\n\u001b[1;32m     31\u001b[0m     \u001b[0;34m\"Get embedding size for each cat_name in `Tabular` or `TabularPandas`, or populate embedding size manually using sz_dict\"\u001b[0m\u001b[0;34m\u001b[0m\u001b[0;34m\u001b[0m\u001b[0m\n\u001b[0;32m---> 32\u001b[0;31m     \u001b[0;32mreturn\u001b[0m \u001b[0;34m[\u001b[0m\u001b[0m_one_emb_sz\u001b[0m\u001b[0;34m(\u001b[0m\u001b[0mto\u001b[0m\u001b[0;34m.\u001b[0m\u001b[0mclasses\u001b[0m\u001b[0;34m,\u001b[0m \u001b[0mn\u001b[0m\u001b[0;34m,\u001b[0m \u001b[0msz_dict\u001b[0m\u001b[0;34m)\u001b[0m \u001b[0;32mfor\u001b[0m \u001b[0mn\u001b[0m \u001b[0;32min\u001b[0m \u001b[0mto\u001b[0m\u001b[0;34m.\u001b[0m\u001b[0mcat_names\u001b[0m\u001b[0;34m]\u001b[0m\u001b[0;34m\u001b[0m\u001b[0;34m\u001b[0m\u001b[0m\n\u001b[0m\u001b[1;32m     33\u001b[0m \u001b[0;34m\u001b[0m\u001b[0m\n\u001b[1;32m     34\u001b[0m \u001b[0;31m# %% ../../nbs/42_tabular.model.ipynb 10\u001b[0m\u001b[0;34m\u001b[0m\u001b[0;34m\u001b[0m\u001b[0m\n",
            "\u001b[0;32m/usr/local/lib/python3.10/dist-packages/fastai/data/core.py\u001b[0m in \u001b[0;36m__getattr__\u001b[0;34m(self, k)\u001b[0m\n\u001b[1;32m    448\u001b[0m         \u001b[0;32mreturn\u001b[0m \u001b[0mres\u001b[0m \u001b[0;32mif\u001b[0m \u001b[0mis_indexer\u001b[0m\u001b[0;34m(\u001b[0m\u001b[0mit\u001b[0m\u001b[0;34m)\u001b[0m \u001b[0;32melse\u001b[0m \u001b[0mlist\u001b[0m\u001b[0;34m(\u001b[0m\u001b[0mzip\u001b[0m\u001b[0;34m(\u001b[0m\u001b[0;34m*\u001b[0m\u001b[0mres\u001b[0m\u001b[0;34m)\u001b[0m\u001b[0;34m)\u001b[0m\u001b[0;34m\u001b[0m\u001b[0;34m\u001b[0m\u001b[0m\n\u001b[1;32m    449\u001b[0m \u001b[0;34m\u001b[0m\u001b[0m\n\u001b[0;32m--> 450\u001b[0;31m     \u001b[0;32mdef\u001b[0m \u001b[0m__getattr__\u001b[0m\u001b[0;34m(\u001b[0m\u001b[0mself\u001b[0m\u001b[0;34m,\u001b[0m\u001b[0mk\u001b[0m\u001b[0;34m)\u001b[0m\u001b[0;34m:\u001b[0m \u001b[0;32mreturn\u001b[0m \u001b[0mgather_attrs\u001b[0m\u001b[0;34m(\u001b[0m\u001b[0mself\u001b[0m\u001b[0;34m,\u001b[0m \u001b[0mk\u001b[0m\u001b[0;34m,\u001b[0m \u001b[0;34m'tls'\u001b[0m\u001b[0;34m)\u001b[0m\u001b[0;34m\u001b[0m\u001b[0;34m\u001b[0m\u001b[0m\n\u001b[0m\u001b[1;32m    451\u001b[0m     \u001b[0;32mdef\u001b[0m \u001b[0m__dir__\u001b[0m\u001b[0;34m(\u001b[0m\u001b[0mself\u001b[0m\u001b[0;34m)\u001b[0m\u001b[0;34m:\u001b[0m \u001b[0;32mreturn\u001b[0m \u001b[0msuper\u001b[0m\u001b[0;34m(\u001b[0m\u001b[0;34m)\u001b[0m\u001b[0;34m.\u001b[0m\u001b[0m__dir__\u001b[0m\u001b[0;34m(\u001b[0m\u001b[0;34m)\u001b[0m \u001b[0;34m+\u001b[0m \u001b[0mgather_attr_names\u001b[0m\u001b[0;34m(\u001b[0m\u001b[0mself\u001b[0m\u001b[0;34m,\u001b[0m \u001b[0;34m'tls'\u001b[0m\u001b[0;34m)\u001b[0m\u001b[0;34m\u001b[0m\u001b[0;34m\u001b[0m\u001b[0m\n\u001b[1;32m    452\u001b[0m     \u001b[0;32mdef\u001b[0m \u001b[0m__len__\u001b[0m\u001b[0;34m(\u001b[0m\u001b[0mself\u001b[0m\u001b[0;34m)\u001b[0m\u001b[0;34m:\u001b[0m \u001b[0;32mreturn\u001b[0m \u001b[0mlen\u001b[0m\u001b[0;34m(\u001b[0m\u001b[0mself\u001b[0m\u001b[0;34m.\u001b[0m\u001b[0mtls\u001b[0m\u001b[0;34m[\u001b[0m\u001b[0;36m0\u001b[0m\u001b[0;34m]\u001b[0m\u001b[0;34m)\u001b[0m\u001b[0;34m\u001b[0m\u001b[0;34m\u001b[0m\u001b[0m\n",
            "\u001b[0;32m/usr/local/lib/python3.10/dist-packages/fastcore/transform.py\u001b[0m in \u001b[0;36mgather_attrs\u001b[0;34m(o, k, nm)\u001b[0m\n\u001b[1;32m    171\u001b[0m     \u001b[0matt\u001b[0m \u001b[0;34m=\u001b[0m \u001b[0mgetattr\u001b[0m\u001b[0;34m(\u001b[0m\u001b[0mo\u001b[0m\u001b[0;34m,\u001b[0m\u001b[0mnm\u001b[0m\u001b[0;34m)\u001b[0m\u001b[0;34m\u001b[0m\u001b[0;34m\u001b[0m\u001b[0m\n\u001b[1;32m    172\u001b[0m     \u001b[0mres\u001b[0m \u001b[0;34m=\u001b[0m \u001b[0;34m[\u001b[0m\u001b[0mt\u001b[0m \u001b[0;32mfor\u001b[0m \u001b[0mt\u001b[0m \u001b[0;32min\u001b[0m \u001b[0matt\u001b[0m\u001b[0;34m.\u001b[0m\u001b[0mattrgot\u001b[0m\u001b[0;34m(\u001b[0m\u001b[0mk\u001b[0m\u001b[0;34m)\u001b[0m \u001b[0;32mif\u001b[0m \u001b[0mt\u001b[0m \u001b[0;32mis\u001b[0m \u001b[0;32mnot\u001b[0m \u001b[0;32mNone\u001b[0m\u001b[0;34m]\u001b[0m\u001b[0;34m\u001b[0m\u001b[0;34m\u001b[0m\u001b[0m\n\u001b[0;32m--> 173\u001b[0;31m     \u001b[0;32mif\u001b[0m \u001b[0;32mnot\u001b[0m \u001b[0mres\u001b[0m\u001b[0;34m:\u001b[0m \u001b[0;32mraise\u001b[0m \u001b[0mAttributeError\u001b[0m\u001b[0;34m(\u001b[0m\u001b[0mk\u001b[0m\u001b[0;34m)\u001b[0m\u001b[0;34m\u001b[0m\u001b[0;34m\u001b[0m\u001b[0m\n\u001b[0m\u001b[1;32m    174\u001b[0m     \u001b[0;32mreturn\u001b[0m \u001b[0mres\u001b[0m\u001b[0;34m[\u001b[0m\u001b[0;36m0\u001b[0m\u001b[0;34m]\u001b[0m \u001b[0;32mif\u001b[0m \u001b[0mlen\u001b[0m\u001b[0;34m(\u001b[0m\u001b[0mres\u001b[0m\u001b[0;34m)\u001b[0m\u001b[0;34m==\u001b[0m\u001b[0;36m1\u001b[0m \u001b[0;32melse\u001b[0m \u001b[0mL\u001b[0m\u001b[0;34m(\u001b[0m\u001b[0mres\u001b[0m\u001b[0;34m)\u001b[0m\u001b[0;34m\u001b[0m\u001b[0;34m\u001b[0m\u001b[0m\n\u001b[1;32m    175\u001b[0m \u001b[0;34m\u001b[0m\u001b[0m\n",
            "\u001b[0;31mAttributeError\u001b[0m: cat_names"
          ]
        }
      ]
    },
    {
      "cell_type": "code",
      "source": [
        "import matplotlib.pyplot as plt\n",
        "\n",
        "def plot_learners_training(learners, metric='loss'):\n",
        "    \"\"\"\n",
        "    Plots the training and validation loss curves for an array of fastai learners.\n",
        "\n",
        "    Parameters:\n",
        "    - learners: list of fastai Learner objects\n",
        "    - metric: 'loss' to plot loss curves (default), or 'metric' to plot a specific metric\n",
        "    \"\"\"\n",
        "    plt.figure(figsize=(12, 6))\n",
        "    max_epochs = max(len(learn.recorder.values) for learn in learners)\n",
        "    for idx, learn in enumerate(learners):\n",
        "        # Extract losses\n",
        "        if metric == 'loss':\n",
        "          train_losses = []\n",
        "          val_losses = []\n",
        "          accuracy = []\n",
        "          for epoch in range(len(learn.recorder.values)):\n",
        "            train_losses.append(learn.recorder.values[epoch][0])\n",
        "            val_losses.append(learn.recorder.values[epoch][1])\n",
        "            accuracy.append(learn.recorder.values[epoch][2])\n",
        "            label_suffix = ''\n",
        "        else:\n",
        "            # Replace with the appropriate code if plotting other metrics\n",
        "            raise ValueError(f\"Metric '{metric}' is not supported in this function.\")\n",
        "\n",
        "        # Plot training loss\n",
        "        plt.plot(train_losses, label=f'Learner {idx + 1} - Training Loss')\n",
        "        # Plot validation loss\n",
        "        plt.plot(val_losses, label=f'Learner {idx + 1} - Validation Loss', linestyle='--')\n",
        "        # Plot accuracy\n",
        "        plt.plot(accuracy, label=f'Learner {idx + 1} - Accuracy', linestyle='-.')\n",
        "\n",
        "    plt.xlabel('Epochs')\n",
        "    plt.ylabel('Loss')\n",
        "    plt.title('Accuracy, Training and Validation Loss for Multiple Learners')\n",
        "    plt.legend()\n",
        "    plt.grid(True)\n",
        "    plt.xlim(0, max_epochs-1)\n",
        "    plt.show()\n",
        "\n"
      ],
      "metadata": {
        "id": "rWr1mDM11K5h"
      },
      "execution_count": null,
      "outputs": []
    },
    {
      "cell_type": "code",
      "source": [
        "LEARN.fit(5)"
      ],
      "metadata": {
        "colab": {
          "base_uri": "https://localhost:8080/",
          "height": 206
        },
        "id": "EUBpV-O61O8-",
        "outputId": "43ffd4c1-d90c-4489-913c-58048205693e",
        "collapsed": true
      },
      "execution_count": null,
      "outputs": [
        {
          "output_type": "display_data",
          "data": {
            "text/plain": [
              "<IPython.core.display.HTML object>"
            ],
            "text/html": [
              "\n",
              "<style>\n",
              "    /* Turns off some styling */\n",
              "    progress {\n",
              "        /* gets rid of default border in Firefox and Opera. */\n",
              "        border: none;\n",
              "        /* Needs to be in here for Safari polyfill so background images work as expected. */\n",
              "        background-size: auto;\n",
              "    }\n",
              "    progress:not([value]), progress:not([value])::-webkit-progress-bar {\n",
              "        background: repeating-linear-gradient(45deg, #7e7e7e, #7e7e7e 10px, #5c5c5c 10px, #5c5c5c 20px);\n",
              "    }\n",
              "    .progress-bar-interrupted, .progress-bar-interrupted::-webkit-progress-bar {\n",
              "        background: #F44336;\n",
              "    }\n",
              "</style>\n"
            ]
          },
          "metadata": {}
        },
        {
          "output_type": "display_data",
          "data": {
            "text/plain": [
              "<IPython.core.display.HTML object>"
            ],
            "text/html": [
              "<table border=\"1\" class=\"dataframe\">\n",
              "  <thead>\n",
              "    <tr style=\"text-align: left;\">\n",
              "      <th>epoch</th>\n",
              "      <th>train_loss</th>\n",
              "      <th>valid_loss</th>\n",
              "      <th>accuracy</th>\n",
              "      <th>time</th>\n",
              "    </tr>\n",
              "  </thead>\n",
              "  <tbody>\n",
              "    <tr>\n",
              "      <td>0</td>\n",
              "      <td>2.022425</td>\n",
              "      <td>1.834604</td>\n",
              "      <td>0.352102</td>\n",
              "      <td>01:09</td>\n",
              "    </tr>\n",
              "    <tr>\n",
              "      <td>1</td>\n",
              "      <td>1.758716</td>\n",
              "      <td>1.579339</td>\n",
              "      <td>0.468535</td>\n",
              "      <td>01:07</td>\n",
              "    </tr>\n",
              "    <tr>\n",
              "      <td>2</td>\n",
              "      <td>1.556010</td>\n",
              "      <td>1.421298</td>\n",
              "      <td>0.537070</td>\n",
              "      <td>01:07</td>\n",
              "    </tr>\n",
              "    <tr>\n",
              "      <td>3</td>\n",
              "      <td>1.393200</td>\n",
              "      <td>1.617450</td>\n",
              "      <td>0.483822</td>\n",
              "      <td>01:18</td>\n",
              "    </tr>\n",
              "    <tr>\n",
              "      <td>4</td>\n",
              "      <td>1.264518</td>\n",
              "      <td>1.297885</td>\n",
              "      <td>0.576815</td>\n",
              "      <td>01:08</td>\n",
              "    </tr>\n",
              "  </tbody>\n",
              "</table>"
            ]
          },
          "metadata": {}
        }
      ]
    },
    {
      "cell_type": "code",
      "source": [
        "LEARN2.fit(10)"
      ],
      "metadata": {
        "colab": {
          "base_uri": "https://localhost:8080/",
          "height": 442
        },
        "id": "mNiOIut71SFb",
        "outputId": "24282055-6527-4835-9e0e-0e4c0bd700c4",
        "collapsed": true
      },
      "execution_count": null,
      "outputs": [
        {
          "data": {
            "text/html": [
              "\n",
              "<style>\n",
              "    /* Turns off some styling */\n",
              "    progress {\n",
              "        /* gets rid of default border in Firefox and Opera. */\n",
              "        border: none;\n",
              "        /* Needs to be in here for Safari polyfill so background images work as expected. */\n",
              "        background-size: auto;\n",
              "    }\n",
              "    progress:not([value]), progress:not([value])::-webkit-progress-bar {\n",
              "        background: repeating-linear-gradient(45deg, #7e7e7e, #7e7e7e 10px, #5c5c5c 10px, #5c5c5c 20px);\n",
              "    }\n",
              "    .progress-bar-interrupted, .progress-bar-interrupted::-webkit-progress-bar {\n",
              "        background: #F44336;\n",
              "    }\n",
              "</style>\n"
            ],
            "text/plain": [
              "<IPython.core.display.HTML object>"
            ]
          },
          "metadata": {},
          "output_type": "display_data"
        },
        {
          "data": {
            "text/html": [
              "\n",
              "    <div>\n",
              "      <progress value='0' class='' max='10' style='width:300px; height:20px; vertical-align: middle;'></progress>\n",
              "      0.00% [0/10 00:00&lt;?]\n",
              "    </div>\n",
              "    \n",
              "<table border=\"1\" class=\"dataframe\">\n",
              "  <thead>\n",
              "    <tr style=\"text-align: left;\">\n",
              "      <th>epoch</th>\n",
              "      <th>train_loss</th>\n",
              "      <th>valid_loss</th>\n",
              "      <th>accuracy</th>\n",
              "      <th>time</th>\n",
              "    </tr>\n",
              "  </thead>\n",
              "  <tbody>\n",
              "  </tbody>\n",
              "</table><p>\n",
              "\n",
              "    <div>\n",
              "      <progress value='62' class='' max='73' style='width:300px; height:20px; vertical-align: middle;'></progress>\n",
              "      84.93% [62/73 00:41&lt;00:07 2.0748]\n",
              "    </div>\n",
              "    "
            ],
            "text/plain": [
              "<IPython.core.display.HTML object>"
            ]
          },
          "metadata": {},
          "output_type": "display_data"
        },
        {
          "output_type": "display_data",
          "data": {
            "text/plain": [
              "<IPython.core.display.HTML object>"
            ],
            "text/html": [
              "<table border=\"1\" class=\"dataframe\">\n",
              "  <thead>\n",
              "    <tr style=\"text-align: left;\">\n",
              "      <th>epoch</th>\n",
              "      <th>train_loss</th>\n",
              "      <th>valid_loss</th>\n",
              "      <th>accuracy</th>\n",
              "      <th>time</th>\n",
              "    </tr>\n",
              "  </thead>\n",
              "  <tbody>\n",
              "    <tr>\n",
              "      <td>0</td>\n",
              "      <td>2.019862</td>\n",
              "      <td>1.876304</td>\n",
              "      <td>0.353631</td>\n",
              "      <td>01:09</td>\n",
              "    </tr>\n",
              "    <tr>\n",
              "      <td>1</td>\n",
              "      <td>1.750584</td>\n",
              "      <td>1.632779</td>\n",
              "      <td>0.448408</td>\n",
              "      <td>01:06</td>\n",
              "    </tr>\n",
              "    <tr>\n",
              "      <td>2</td>\n",
              "      <td>1.534833</td>\n",
              "      <td>1.484711</td>\n",
              "      <td>0.501911</td>\n",
              "      <td>01:07</td>\n",
              "    </tr>\n",
              "    <tr>\n",
              "      <td>3</td>\n",
              "      <td>1.373357</td>\n",
              "      <td>1.366834</td>\n",
              "      <td>0.546242</td>\n",
              "      <td>01:07</td>\n",
              "    </tr>\n",
              "    <tr>\n",
              "      <td>4</td>\n",
              "      <td>1.249721</td>\n",
              "      <td>1.309034</td>\n",
              "      <td>0.572484</td>\n",
              "      <td>01:09</td>\n",
              "    </tr>\n",
              "    <tr>\n",
              "      <td>5</td>\n",
              "      <td>1.165401</td>\n",
              "      <td>1.474159</td>\n",
              "      <td>0.530446</td>\n",
              "      <td>01:07</td>\n",
              "    </tr>\n",
              "    <tr>\n",
              "      <td>6</td>\n",
              "      <td>1.078026</td>\n",
              "      <td>1.113161</td>\n",
              "      <td>0.644076</td>\n",
              "      <td>01:08</td>\n",
              "    </tr>\n",
              "    <tr>\n",
              "      <td>7</td>\n",
              "      <td>1.009691</td>\n",
              "      <td>1.150280</td>\n",
              "      <td>0.624459</td>\n",
              "      <td>01:09</td>\n",
              "    </tr>\n",
              "    <tr>\n",
              "      <td>8</td>\n",
              "      <td>0.953707</td>\n",
              "      <td>1.127346</td>\n",
              "      <td>0.636688</td>\n",
              "      <td>01:07</td>\n",
              "    </tr>\n",
              "    <tr>\n",
              "      <td>9</td>\n",
              "      <td>0.903449</td>\n",
              "      <td>1.022959</td>\n",
              "      <td>0.668280</td>\n",
              "      <td>01:07</td>\n",
              "    </tr>\n",
              "  </tbody>\n",
              "</table>"
            ]
          },
          "metadata": {}
        }
      ]
    },
    {
      "cell_type": "code",
      "source": [
        "plot_learners_training([LEARN, LEARN2])"
      ],
      "metadata": {
        "colab": {
          "base_uri": "https://localhost:8080/",
          "height": 564
        },
        "id": "IgXafjYs1k9l",
        "outputId": "12b48bb1-06a8-4f5b-92aa-89cf8f3d8a0a",
        "collapsed": true
      },
      "execution_count": null,
      "outputs": [
        {
          "output_type": "display_data",
          "data": {
            "text/plain": [
              "<Figure size 1200x600 with 1 Axes>"
            ],
            "image/png": "[encoded data removed]"
          },
          "metadata": {}
        }
      ]
    },
    {
      "cell_type": "code",
      "source": [
        "print(LEARN.recorder.values[0])"
      ],
      "metadata": {
        "colab": {
          "base_uri": "https://localhost:8080/"
        },
        "id": "CL4V9KEu31D7",
        "outputId": "949c07b8-1851-4db8-aebe-5fa75b9525b3"
      },
      "execution_count": null,
      "outputs": [
        {
          "output_type": "stream",
          "name": "stdout",
          "text": [
            "[1.3855714797973633, 1.3500562906265259, 0.4975999891757965]\n"
          ]
        }
      ]
    },
    {
      "cell_type": "code",
      "source": [
        "LEARN.summary()"
      ],
      "metadata": {
        "colab": {
          "base_uri": "https://localhost:8080/",
          "height": 1000
        },
        "id": "nUnbYDohz42m",
        "outputId": "6c28fb41-2748-4165-8a6c-dc182351b384",
        "collapsed": true
      },
      "execution_count": null,
      "outputs": [
        {
          "output_type": "display_data",
          "data": {
            "text/plain": [
              "<IPython.core.display.HTML object>"
            ],
            "text/html": [
              "\n",
              "<style>\n",
              "    /* Turns off some styling */\n",
              "    progress {\n",
              "        /* gets rid of default border in Firefox and Opera. */\n",
              "        border: none;\n",
              "        /* Needs to be in here for Safari polyfill so background images work as expected. */\n",
              "        background-size: auto;\n",
              "    }\n",
              "    progress:not([value]), progress:not([value])::-webkit-progress-bar {\n",
              "        background: repeating-linear-gradient(45deg, #7e7e7e, #7e7e7e 10px, #5c5c5c 10px, #5c5c5c 20px);\n",
              "    }\n",
              "    .progress-bar-interrupted, .progress-bar-interrupted::-webkit-progress-bar {\n",
              "        background: #F44336;\n",
              "    }\n",
              "</style>\n"
            ]
          },
          "metadata": {}
        },
        {
          "output_type": "display_data",
          "data": {
            "text/plain": [
              "<IPython.core.display.HTML object>"
            ],
            "text/html": []
          },
          "metadata": {}
        },
        {
          "output_type": "execute_result",
          "data": {
            "text/plain": [
              "ResNet12WithBottlenecks (Input shape: 128 x 3 x 32 x 32)\n",
              "============================================================================\n",
              "Layer (type)         Output Shape         Param #    Trainable \n",
              "============================================================================\n",
              "                     128 x 16 x 32 x 32  \n",
              "Conv2d                                    48         True      \n",
              "BatchNorm2d                               32         True      \n",
              "Conv2d                                    2304       True      \n",
              "BatchNorm2d                               32         True      \n",
              "____________________________________________________________________________\n",
              "                     128 x 64 x 32 x 32  \n",
              "Conv2d                                    1024       True      \n",
              "BatchNorm2d                               128        True      \n",
              "ReLU                                                           \n",
              "Conv2d                                    192        True      \n",
              "BatchNorm2d                               128        True      \n",
              "____________________________________________________________________________\n",
              "                     128 x 16 x 32 x 32  \n",
              "Conv2d                                    1024       True      \n",
              "BatchNorm2d                               32         True      \n",
              "Conv2d                                    2304       True      \n",
              "BatchNorm2d                               32         True      \n",
              "____________________________________________________________________________\n",
              "                     128 x 64 x 32 x 32  \n",
              "Conv2d                                    1024       True      \n",
              "BatchNorm2d                               128        True      \n",
              "ReLU                                                           \n",
              "____________________________________________________________________________\n",
              "                     128 x 16 x 32 x 32  \n",
              "Conv2d                                    1024       True      \n",
              "BatchNorm2d                               32         True      \n",
              "Conv2d                                    2304       True      \n",
              "BatchNorm2d                               32         True      \n",
              "____________________________________________________________________________\n",
              "                     128 x 64 x 32 x 32  \n",
              "Conv2d                                    1024       True      \n",
              "BatchNorm2d                               128        True      \n",
              "ReLU                                                           \n",
              "____________________________________________________________________________\n",
              "                     128 x 32 x 32 x 32  \n",
              "Conv2d                                    2048       True      \n",
              "BatchNorm2d                               64         True      \n",
              "____________________________________________________________________________\n",
              "                     128 x 32 x 16 x 16  \n",
              "Conv2d                                    9216       True      \n",
              "BatchNorm2d                               64         True      \n",
              "____________________________________________________________________________\n",
              "                     128 x 128 x 16 x 16 \n",
              "Conv2d                                    4096       True      \n",
              "BatchNorm2d                               256        True      \n",
              "ReLU                                                           \n",
              "Conv2d                                    8192       True      \n",
              "BatchNorm2d                               256        True      \n",
              "____________________________________________________________________________\n",
              "                     128 x 32 x 16 x 16  \n",
              "Conv2d                                    4096       True      \n",
              "BatchNorm2d                               64         True      \n",
              "Conv2d                                    9216       True      \n",
              "BatchNorm2d                               64         True      \n",
              "____________________________________________________________________________\n",
              "                     128 x 128 x 16 x 16 \n",
              "Conv2d                                    4096       True      \n",
              "BatchNorm2d                               256        True      \n",
              "ReLU                                                           \n",
              "____________________________________________________________________________\n",
              "                     128 x 32 x 16 x 16  \n",
              "Conv2d                                    4096       True      \n",
              "BatchNorm2d                               64         True      \n",
              "Conv2d                                    9216       True      \n",
              "BatchNorm2d                               64         True      \n",
              "____________________________________________________________________________\n",
              "                     128 x 128 x 16 x 16 \n",
              "Conv2d                                    4096       True      \n",
              "BatchNorm2d                               256        True      \n",
              "ReLU                                                           \n",
              "____________________________________________________________________________\n",
              "                     128 x 64 x 16 x 16  \n",
              "Conv2d                                    8192       True      \n",
              "BatchNorm2d                               128        True      \n",
              "____________________________________________________________________________\n",
              "                     128 x 64 x 8 x 8    \n",
              "Conv2d                                    36864      True      \n",
              "BatchNorm2d                               128        True      \n",
              "____________________________________________________________________________\n",
              "                     128 x 256 x 8 x 8   \n",
              "Conv2d                                    16384      True      \n",
              "BatchNorm2d                               512        True      \n",
              "ReLU                                                           \n",
              "Conv2d                                    32768      True      \n",
              "BatchNorm2d                               512        True      \n",
              "____________________________________________________________________________\n",
              "                     128 x 64 x 8 x 8    \n",
              "Conv2d                                    16384      True      \n",
              "BatchNorm2d                               128        True      \n",
              "Conv2d                                    36864      True      \n",
              "BatchNorm2d                               128        True      \n",
              "____________________________________________________________________________\n",
              "                     128 x 256 x 8 x 8   \n",
              "Conv2d                                    16384      True      \n",
              "BatchNorm2d                               512        True      \n",
              "ReLU                                                           \n",
              "____________________________________________________________________________\n",
              "                     128 x 64 x 8 x 8    \n",
              "Conv2d                                    16384      True      \n",
              "BatchNorm2d                               128        True      \n",
              "Conv2d                                    36864      True      \n",
              "BatchNorm2d                               128        True      \n",
              "____________________________________________________________________________\n",
              "                     128 x 256 x 8 x 8   \n",
              "Conv2d                                    16384      True      \n",
              "BatchNorm2d                               512        True      \n",
              "ReLU                                                           \n",
              "____________________________________________________________________________\n",
              "                     128 x 128 x 8 x 8   \n",
              "Conv2d                                    32768      True      \n",
              "BatchNorm2d                               256        True      \n",
              "____________________________________________________________________________\n",
              "                     128 x 128 x 4 x 4   \n",
              "Conv2d                                    147456     True      \n",
              "BatchNorm2d                               256        True      \n",
              "____________________________________________________________________________\n",
              "                     128 x 512 x 4 x 4   \n",
              "Conv2d                                    65536      True      \n",
              "BatchNorm2d                               1024       True      \n",
              "ReLU                                                           \n",
              "Conv2d                                    131072     True      \n",
              "BatchNorm2d                               1024       True      \n",
              "____________________________________________________________________________\n",
              "                     128 x 128 x 4 x 4   \n",
              "Conv2d                                    65536      True      \n",
              "BatchNorm2d                               256        True      \n",
              "Conv2d                                    147456     True      \n",
              "BatchNorm2d                               256        True      \n",
              "____________________________________________________________________________\n",
              "                     128 x 512 x 4 x 4   \n",
              "Conv2d                                    65536      True      \n",
              "BatchNorm2d                               1024       True      \n",
              "ReLU                                                           \n",
              "____________________________________________________________________________\n",
              "                     128 x 128 x 4 x 4   \n",
              "Conv2d                                    65536      True      \n",
              "BatchNorm2d                               256        True      \n",
              "Conv2d                                    147456     True      \n",
              "BatchNorm2d                               256        True      \n",
              "____________________________________________________________________________\n",
              "                     128 x 512 x 4 x 4   \n",
              "Conv2d                                    65536      True      \n",
              "BatchNorm2d                               1024       True      \n",
              "ReLU                                                           \n",
              "____________________________________________________________________________\n",
              "                     128 x 512 x 1 x 1   \n",
              "AdaptiveAvgPool2d                                              \n",
              "BatchNorm1d                               1024       True      \n",
              "Dropout                                                        \n",
              "____________________________________________________________________________\n",
              "                     128 x 256           \n",
              "Linear                                    131328     True      \n",
              "BatchNorm1d                               512        True      \n",
              "Dropout                                                        \n",
              "____________________________________________________________________________\n",
              "                     128 x 10            \n",
              "Linear                                    2570       True      \n",
              "ReLU                                                           \n",
              "____________________________________________________________________________\n",
              "\n",
              "Total params: 1,383,994\n",
              "Total trainable params: 1,383,994\n",
              "Total non-trainable params: 0\n",
              "\n",
              "Optimizer used: <function Adam at 0x7a4934b4d3f0>\n",
              "Loss function: FlattenedLoss of CrossEntropyLoss()\n",
              "\n",
              "Callbacks:\n",
              "  - TrainEvalCallback\n",
              "  - CastToTensor\n",
              "  - Recorder\n",
              "  - ProgressCallback"
            ],
            "application/vnd.google.colaboratory.intrinsic+json": {
              "type": "string"
            }
          },
          "metadata": {},
          "execution_count": 31
        }
      ]
    },
    {
      "cell_type": "code",
      "source": [
        "\n",
        "vision_learner(dls,resnet18, pretrained=False).summary()"
      ],
      "metadata": {
        "colab": {
          "base_uri": "https://localhost:8080/",
          "height": 1000
        },
        "id": "btsgLY2Up-Hh",
        "outputId": "33640d12-6fa7-431a-9c75-668936c76d81",
        "collapsed": true
      },
      "execution_count": null,
      "outputs": [
        {
          "output_type": "display_data",
          "data": {
            "text/plain": [
              "<IPython.core.display.HTML object>"
            ],
            "text/html": [
              "\n",
              "<style>\n",
              "    /* Turns off some styling */\n",
              "    progress {\n",
              "        /* gets rid of default border in Firefox and Opera. */\n",
              "        border: none;\n",
              "        /* Needs to be in here for Safari polyfill so background images work as expected. */\n",
              "        background-size: auto;\n",
              "    }\n",
              "    progress:not([value]), progress:not([value])::-webkit-progress-bar {\n",
              "        background: repeating-linear-gradient(45deg, #7e7e7e, #7e7e7e 10px, #5c5c5c 10px, #5c5c5c 20px);\n",
              "    }\n",
              "    .progress-bar-interrupted, .progress-bar-interrupted::-webkit-progress-bar {\n",
              "        background: #F44336;\n",
              "    }\n",
              "</style>\n"
            ]
          },
          "metadata": {}
        },
        {
          "output_type": "display_data",
          "data": {
            "text/plain": [
              "<IPython.core.display.HTML object>"
            ],
            "text/html": []
          },
          "metadata": {}
        },
        {
          "output_type": "execute_result",
          "data": {
            "text/plain": [
              "Sequential (Input shape: 128 x 3 x 32 x 32)\n",
              "============================================================================\n",
              "Layer (type)         Output Shape         Param #    Trainable \n",
              "============================================================================\n",
              "                     128 x 64 x 16 x 16  \n",
              "Conv2d                                    9408       True      \n",
              "BatchNorm2d                               128        True      \n",
              "ReLU                                                           \n",
              "____________________________________________________________________________\n",
              "                     128 x 64 x 8 x 8    \n",
              "MaxPool2d                                                      \n",
              "Conv2d                                    36864      True      \n",
              "BatchNorm2d                               128        True      \n",
              "ReLU                                                           \n",
              "Conv2d                                    36864      True      \n",
              "BatchNorm2d                               128        True      \n",
              "Conv2d                                    36864      True      \n",
              "BatchNorm2d                               128        True      \n",
              "ReLU                                                           \n",
              "Conv2d                                    36864      True      \n",
              "BatchNorm2d                               128        True      \n",
              "____________________________________________________________________________\n",
              "                     128 x 128 x 4 x 4   \n",
              "Conv2d                                    73728      True      \n",
              "BatchNorm2d                               256        True      \n",
              "ReLU                                                           \n",
              "Conv2d                                    147456     True      \n",
              "BatchNorm2d                               256        True      \n",
              "Conv2d                                    8192       True      \n",
              "BatchNorm2d                               256        True      \n",
              "Conv2d                                    147456     True      \n",
              "BatchNorm2d                               256        True      \n",
              "ReLU                                                           \n",
              "Conv2d                                    147456     True      \n",
              "BatchNorm2d                               256        True      \n",
              "____________________________________________________________________________\n",
              "                     128 x 256 x 2 x 2   \n",
              "Conv2d                                    294912     True      \n",
              "BatchNorm2d                               512        True      \n",
              "ReLU                                                           \n",
              "Conv2d                                    589824     True      \n",
              "BatchNorm2d                               512        True      \n",
              "Conv2d                                    32768      True      \n",
              "BatchNorm2d                               512        True      \n",
              "Conv2d                                    589824     True      \n",
              "BatchNorm2d                               512        True      \n",
              "ReLU                                                           \n",
              "Conv2d                                    589824     True      \n",
              "BatchNorm2d                               512        True      \n",
              "____________________________________________________________________________\n",
              "                     128 x 512 x 1 x 1   \n",
              "Conv2d                                    1179648    True      \n",
              "BatchNorm2d                               1024       True      \n",
              "ReLU                                                           \n",
              "Conv2d                                    2359296    True      \n",
              "BatchNorm2d                               1024       True      \n",
              "Conv2d                                    131072     True      \n",
              "BatchNorm2d                               1024       True      \n",
              "Conv2d                                    2359296    True      \n",
              "BatchNorm2d                               1024       True      \n",
              "ReLU                                                           \n",
              "Conv2d                                    2359296    True      \n",
              "BatchNorm2d                               1024       True      \n",
              "AdaptiveAvgPool2d                                              \n",
              "AdaptiveMaxPool2d                                              \n",
              "____________________________________________________________________________\n",
              "                     128 x 1024          \n",
              "Flatten                                                        \n",
              "BatchNorm1d                               2048       True      \n",
              "Dropout                                                        \n",
              "____________________________________________________________________________\n",
              "                     128 x 512           \n",
              "Linear                                    524288     True      \n",
              "ReLU                                                           \n",
              "BatchNorm1d                               1024       True      \n",
              "Dropout                                                        \n",
              "____________________________________________________________________________\n",
              "                     128 x 10            \n",
              "Linear                                    5120       True      \n",
              "____________________________________________________________________________\n",
              "\n",
              "Total params: 11,708,992\n",
              "Total trainable params: 11,708,992\n",
              "Total non-trainable params: 0\n",
              "\n",
              "Optimizer used: <function Adam at 0x7a4934b4d3f0>\n",
              "Loss function: FlattenedLoss of CrossEntropyLoss()\n",
              "\n",
              "Callbacks:\n",
              "  - TrainEvalCallback\n",
              "  - CastToTensor\n",
              "  - Recorder\n",
              "  - ProgressCallback"
            ],
            "application/vnd.google.colaboratory.intrinsic+json": {
              "type": "string"
            }
          },
          "metadata": {},
          "execution_count": 21
        }
      ]
    },
    {
      "cell_type": "code",
      "source": [
        "#Get params from a model in a numpy array\n",
        "\n",
        "def get_params_from_model(model):\n",
        "    return np.concatenate([v.cpu().detach().numpy().ravel() for v in model.parameters()])\n",
        "\n",
        "\n",
        "\n",
        "#The params are set into the global model to compute the loss.\n",
        "def set_params_to_model(params):\n",
        "    offset = 0\n",
        "    for param in LEARN.model.parameters():\n",
        "        param_size = param.numel()\n",
        "        param.data = torch.tensor(params[offset:offset + param_size], dtype=param.data.dtype).view(param.size())#.to('cuda')\n",
        "        param.requires_grad = True\n",
        "        offset += param_size\n",
        "\n",
        "#Get the valid loss\n",
        "def err_param_valid(params):\n",
        "    set_params_to_model(params)\n",
        "\n",
        "    LEARN.eval()\n",
        "    #Option 1: calculate the error per each batch and make the mean\n",
        "\n",
        "    loss =0.0\n",
        "\n",
        "    #If i have categorical, continius and the target\n",
        "    if len(dls.one_batch()) > 2:\n",
        "      for batch in dls.valid:\n",
        "        # Handle the case where there are no continuous features\n",
        "        x_cont = batch[1] if len(batch) > 1 and batch[1] is not None else None\n",
        "        pred = LEARN.model(batch[0], x_cont)  # Pass both categorical and continuous features (if any)\n",
        "        pred = torch.tensor(pred.clone().detach())\n",
        "        target = torch.tensor(batch[2].squeeze().long().clone().detach())\n",
        "        loss += F.cross_entropy(pred, target)\n",
        "\n",
        "\n",
        "    #If not\n",
        "    else:\n",
        "      for batch in dls.valid:\n",
        "        # Handle the case where there are no continuous features\n",
        "\n",
        "        pred = LEARN.model(batch[0])  # Pass both categorical and continuous features (if any)\n",
        "        pred = torch.tensor(pred.clone().detach())\n",
        "        target = torch.tensor(batch[1].squeeze().long().clone().detach())\n",
        "        loss += F.cross_entropy(pred, target)\n",
        "\n",
        "    loss/=len(dls.valid)\n",
        "\n",
        "\n",
        "    return loss.mean().item()\n",
        "\n",
        "\n",
        "#Get de train loss\n",
        "def err_param(params):\n",
        "    set_params_to_model(params)\n",
        "\n",
        "    LEARN.train()\n",
        "    #Option 1: calculate the error per each batch and make the mean\n",
        "\n",
        "    loss =0.0\n",
        "\n",
        "    #If i have categorical, continius and the target\n",
        "    if len(dls.one_batch()) > 2:\n",
        "      for batch in dls.train:\n",
        "        # Handle the case where there are no continuous features\n",
        "        x_cont = batch[1] if len(batch) > 1 and batch[1] is not None else None\n",
        "        pred = LEARN.model(batch[0], x_cont)  # Pass both categorical and continuous features (if any)\n",
        "        pred = torch.tensor(pred.clone().detach())\n",
        "        target = torch.tensor(batch[2].squeeze().long().clone().detach())\n",
        "        loss += F.cross_entropy(pred, target)\n",
        "\n",
        "\n",
        "    #If not\n",
        "    else:\n",
        "      for batch in dls.train:\n",
        "        # Handle the case where there are no continuous features\n",
        "\n",
        "        pred = LEARN.model(batch[0])  # Pass both categorical and continuous features (if any)\n",
        "        pred = torch.tensor(pred.clone().detach())\n",
        "        target = torch.tensor(batch[1].squeeze().long().clone().detach())\n",
        "        loss += F.cross_entropy(pred, target)\n",
        "\n",
        "    loss/=len(dls.valid)\n",
        "\n",
        "\n",
        "    return loss.mean().item()\n",
        "\n",
        "\n",
        "def test_err_param(params, batch):\n",
        "    set_params_to_model(params)\n",
        "\n",
        "    LEARN.train()\n",
        "    #Option 1: calculate the error per each batch and make the mean\n",
        "\n",
        "    # Handle the case where there are no continuous features\n",
        "    if len(batch) > 2:\n",
        "      x_cont = batch[1] if len(batch) > 1 and batch[1] is not None else None\n",
        "      pred = LEARN.model(batch[0], x_cont)  # Pass both categorical and continuous features (if any)\n",
        "      pred = torch.tensor(pred.clone().detach())#.to('cuda')\n",
        "      target = torch.tensor(batch[2].squeeze().long().clone().detach())#.to('cuda')\n",
        "\n",
        "    else:\n",
        "      pred = LEARN.model(batch[0])  # Pass both categorical and continuous features (if any)\n",
        "      pred = torch.tensor(pred.clone().detach())#.to('cuda')\n",
        "      target = torch.tensor(batch[1].squeeze().long().clone().detach())#.to('cuda')\n",
        "\n",
        "    loss = F.cross_entropy(pred, target)\n",
        "\n",
        "\n",
        "\n",
        "    return loss.mean().item()\n",
        "\n",
        "\n",
        "\n",
        "\n",
        "\n"
      ],
      "metadata": {
        "id": "MB1CwGa01bMp"
      },
      "execution_count": null,
      "outputs": []
    },
    {
      "cell_type": "code",
      "source": [
        "#!pip install ~/pyade-master\n",
        "!pip install /content/drive/MyDrive/pyade-master\n",
        "import pyade"
      ],
      "metadata": {
        "colab": {
          "base_uri": "https://localhost:8080/"
        },
        "id": "fTNZuGXr-9GL",
        "outputId": "6bc7fef9-6bac-4d0b-c61d-64d95ae96f46"
      },
      "execution_count": null,
      "outputs": [
        {
          "output_type": "stream",
          "name": "stdout",
          "text": [
            "Processing ./drive/MyDrive/pyade-master\n",
            "  Preparing metadata (setup.py) ... \u001b[?25l\u001b[?25hdone\n",
            "Building wheels for collected packages: pyade-python\n",
            "  Building wheel for pyade-python (setup.py) ... \u001b[?25l\u001b[?25hdone\n",
            "  Created wheel for pyade-python: filename=pyade_python-1.0-py3-none-any.whl size=29159 sha256=06fb218cac1d5f0757d6de7f0fb91ecbac2f7df0570b8ae31bcf9f1b61622298\n",
            "  Stored in directory: /root/.cache/pip/wheels/89/b8/51/ff2ebef24405d3ef46ccb451f962b374b2745f263fb000c434\n",
            "Successfully built pyade-python\n",
            "Installing collected packages: pyade-python\n",
            "  Attempting uninstall: pyade-python\n",
            "    Found existing installation: pyade-python 1.0\n",
            "    Uninstalling pyade-python-1.0:\n",
            "      Successfully uninstalled pyade-python-1.0\n",
            "Successfully installed pyade-python-1.0\n"
          ]
        }
      ]
    },
    {
      "cell_type": "code",
      "source": [
        "import pyade.shade\n",
        "\n",
        "algorithm = pyade.shade\n",
        "\n",
        "def SHADE_ej(population, fitness, pop_size, max_evals, dim, dls, prevm_cr=0, prevm_f=0, k=0):\n",
        "\n",
        "  population = np.array(population).reshape(pop_size, dim)\n",
        "  fitness = np.array(fitness)\n",
        "\n",
        "  params = algorithm.get_default_params(dim=dim)\n",
        "  # We define the boundaries of the variables\n",
        "  params['bounds'] = np.array([[-50, 50]] * dim)\n",
        "\n",
        "  # We indicate the function we want to minimize\n",
        "  params['func'] = test_err_param\n",
        "\n",
        "  params['population_size']=pop_size\n",
        "\n",
        "\n",
        "\n",
        "  params['seed']=42\n",
        "\n",
        "\n",
        "\n",
        "\n",
        "  params['init_pop']=population\n",
        "\n",
        "  params['max_evals']=max_evals\n",
        "\n",
        "\n",
        "  params['prevm_cr']=prevm_cr\n",
        "\n",
        "  params['prevm_f']=prevm_f\n",
        "\n",
        "  params['k']=k\n",
        "\n",
        "  params['fitness']=fitness\n",
        "  params['dls']=dls\n",
        "\n",
        "  return algorithm.apply(**params)\n",
        "\n",
        "\n",
        "\n",
        "\n"
      ],
      "metadata": {
        "id": "5WeuOBhfiihU",
        "collapsed": true
      },
      "execution_count": null,
      "outputs": []
    },
    {
      "cell_type": "code",
      "source": [
        "import gc\n",
        "gc.collect()"
      ],
      "metadata": {
        "colab": {
          "base_uri": "https://localhost:8080/"
        },
        "id": "5gPz8Bu-6R9k",
        "outputId": "5ecd2de6-aa91-4ef6-85bf-ae01422dd038"
      },
      "execution_count": null,
      "outputs": [
        {
          "output_type": "execute_result",
          "data": {
            "text/plain": [
              "8"
            ]
          },
          "metadata": {},
          "execution_count": 62
        }
      ]
    },
    {
      "cell_type": "code",
      "source": [
        "population = [get_params_from_model(ResNet12WithBottlenecks(10)) for _ in range(10)]\n"
      ],
      "metadata": {
        "id": "lbj9kr_Vk7d3"
      },
      "execution_count": null,
      "outputs": []
    },
    {
      "cell_type": "markdown",
      "source": [
        "He añadido un parametro de entrada y de salida k en la funcion de shade para ir pasandolo entre ejecuciones. Los recursos de RAM parece que se caban estabilizando asi que no hay mucho problema en cuanto a recursos, ya tendría que estar pendiente del tiempo."
      ],
      "metadata": {
        "id": "U-UjIuGs-Nje"
      }
    },
    {
      "cell_type": "code",
      "source": [
        "params = algorithm.get_default_params(dim=len(population[0]))\n",
        "print(params['memory_size'])"
      ],
      "metadata": {
        "colab": {
          "base_uri": "https://localhost:8080/"
        },
        "id": "LUV-XRis4Nx_",
        "outputId": "7c8af35d-cf6b-40fd-8ea0-df622b24d1de"
      },
      "execution_count": null,
      "outputs": [
        {
          "output_type": "stream",
          "name": "stdout",
          "text": [
            "100\n"
          ]
        }
      ]
    },
    {
      "cell_type": "markdown",
      "source": [
        "- Tengo SHADE funcionando. Tengo que hace ILS-SHADE basicamente añadiendo la busqueda local y todo el rollo según el paper de dani molina.\n",
        "\n",
        "- He cambiado el return del shade.py para que devuelva toda la poblacion, todo el vector de fitness y que ademas devuelva los parametros, y que se puedan volver a meter luego para que se siga adaptando. Solo guardo los parametros de las matrices porque son los que guardan los resultados exitosos de los valores, y los que se aprovechan luego en el resto de ejecuciones. Podría rentar meter la ejecucion de SHADE junto con el correspondiente guardado\n",
        "\n",
        "\n",
        "- Tengo funcionando la Búsqueda local con L-BFGS-B. Tengo dos opciones: la implementación con pytorch y la implementación con scipy. La de scipy calcula el gradiente aproximado de un batch y hace bastantes iteraciones (unas 30) mientras que la otra la calcula en minibatches y aplica cambios tras cada mini-batch y solo hace un epoch.\n",
        "\n",
        "- La de PyTorch en principio está más pensada para este tipo de optimizaciones de machine learning. Al principio funcionaba mucho mejor la de PyTorch pero ahora funciona mucho mejor la de ScipY\n",
        "\n",
        "- Sería interesante y justificable usar solo esta búsqueda local en el algoritmo de SHADE-ILS ya que es un método conocido de segundo orden para entrenamiento de modelos.\n",
        "\n",
        "- Cuando vaya a entrenar a resnet18 será complicado por el número de parámetros. Opciones varias son: meter menos búsqueda local en ese momento, buscar un modelo más pequeño, buscar una búsqueda local más accesible, o, en última opción: no hacer SHADE-ILS con resnet18. He probado con el MLP de 15 capas y no tarda demasiado obteniendo resultados aceptables de 0.17 (3 min)\n",
        "\n",
        "- Ejecucion de SHADE-ILS con MLP 15 capas: 14 min\n",
        "\n",
        "- Aun asi puedo investigar un poco el otro tipo de BL: MTS LS\n",
        "\n",
        "# TODO\n",
        "\n",
        "2. (Opcional) AÑADIR metodo MTS LS. En tal caso tengo que añadir también el criterio para que se aplique o no la LS y cual se aplica.\n",
        "\n",
        "3. FINE-TUNE de parámetros: evaluaciones, num_pob, etc\n",
        "\n",
        "4. REDACTAR la experimentacion detalladamente y enviarsela a pablo.\n",
        "\n",
        "5. PENSAR qué métricas, datos voy a medir y a comparar.\n",
        "\n",
        "6. COMPROBAR cálculo del gradiente y función de error.\n",
        "\n",
        "7. (OPCIONAL) COMPROBAR qué pasa usando la función f\\_min\\_fbgs de minimize de scipy: es en esencia la misma función que la que estoy usando ahora pero no usa ninguna función gradiente: lo hace a través de una aproximación por diferencias finitas. Intuición de lo que va a pasar: si uso minimize() sin pasarle la función gradiente para la aproximación tarda una eternidad (para de 1seg a más de 4min para 32 neuronas)"
      ],
      "metadata": {
        "id": "H2CC2KP334wC"
      }
    },
    {
      "cell_type": "code",
      "source": [
        "#BUSQUEDA LOCAL CON LBFGS CON LIBRERIA SCIPY\n",
        "from scipy.optimize import minimize\n",
        "def get_gradient(ind):\n",
        "    set_params_to_model(ind)\n",
        "    LEARN.train()  # Put the model in training mode\n",
        "    batch = dls.train.one_batch()\n",
        "\n",
        "    pred = LEARN.model(batch[0])  # Make predictions\n",
        "    # Convert predictions and targets to torch.Tensor subclass\n",
        "    pred = pred.as_subclass(torch.Tensor).clone()\n",
        "    target = batch[1].squeeze().long().as_subclass(torch.Tensor).clone()\n",
        "\n",
        "    # Calculate the loss using cross_entropy\n",
        "    loss = F.cross_entropy(pred, target)\n",
        "    loss.backward()  # Calculate gradients\n",
        "\n",
        "    # Extract gradients into a list\n",
        "    gradients = [param.grad.clone().detach().cpu().numpy().ravel() for param in LEARN.model.parameters()]\n",
        "\n",
        "    # Concatenate gradients into a single 1D array\n",
        "    return loss.mean().item(), np.concatenate(gradients)\n",
        "\n",
        "def LBFGS_SCIPY(ind):\n",
        "    result = minimize(get_gradient, ind, jac=True, method='L-BFGS-B')\n",
        "    return result.x, result.fun, result.nfev, result.njev\n"
      ],
      "metadata": {
        "id": "qw66vjIDBZ9_"
      },
      "execution_count": null,
      "outputs": []
    },
    {
      "cell_type": "code",
      "source": [
        "result = minimize(get_gradient, ind, jac=True, method='L-BFGS-B')"
      ],
      "metadata": {
        "id": "4HWbXCgdnw_r"
      },
      "execution_count": null,
      "outputs": []
    },
    {
      "cell_type": "code",
      "source": [
        "print(err_param(ind)) #2min"
      ],
      "metadata": {
        "colab": {
          "base_uri": "https://localhost:8080/"
        },
        "id": "zXYeJfy4pCFc",
        "outputId": "d25d9bb6-41e4-492b-e6e0-6923d3017558"
      },
      "execution_count": null,
      "outputs": [
        {
          "output_type": "stream",
          "name": "stderr",
          "text": [
            "<ipython-input-72-5410764ad5d9>:49: UserWarning: To copy construct from a tensor, it is recommended to use sourceTensor.clone().detach() or sourceTensor.clone().detach().requires_grad_(True), rather than torch.tensor(sourceTensor).\n",
            "  pred = torch.tensor(pred.clone().detach())\n",
            "<ipython-input-72-5410764ad5d9>:50: UserWarning: To copy construct from a tensor, it is recommended to use sourceTensor.clone().detach() or sourceTensor.clone().detach().requires_grad_(True), rather than torch.tensor(sourceTensor).\n",
            "  target = torch.tensor(batch[1].squeeze().long().clone().detach())\n"
          ]
        },
        {
          "output_type": "stream",
          "name": "stdout",
          "text": [
            "2.5692601203918457\n"
          ]
        }
      ]
    },
    {
      "cell_type": "code",
      "source": [
        "import torch.optim as optim\n",
        "layers=[64, 32, 8]\n",
        "LEARN =  tabular_learner(dls, layers=layers)\n",
        "\n",
        "\n",
        "\n",
        "def epoch_LBFGS(ind):\n",
        "    optimizer = optim.LBFGS(LEARN.model.parameters(), lr=0.01)\n",
        "    set_params_to_model(ind)\n",
        "    LEARN.train()  # Put the model in training mode\n",
        "\n",
        "\n",
        "    def closure():\n",
        "        optimizer.zero_grad()  # Clear previous gradients\n",
        "        batch = next(iter(dls.train))  # Get one batch of data\n",
        "        # Handle the case where there are no continuous features\n",
        "        x_cont = batch[1] if len(batch) > 1 and batch[1] is not None else None\n",
        "        output = LEARN.model(batch[0], x_cont)  # Forward pass\n",
        "        target = batch[2].squeeze().long()\n",
        "        loss = F.cross_entropy(output, target)  # Accumulate loss\n",
        "        loss.backward()  # Backward pass after accumulating loss over all batches\n",
        "        return loss\n",
        "\n",
        "    for _ in range(len(dls.train)): # Assuming you want to run for one epoch\n",
        "        optimizer.step(closure)\n",
        "        print(\"EO\")\n",
        "\n",
        "    return get_params_from_model(LEARN)\n",
        "\n",
        "ind=get_params_from_model(LEARN)\n",
        "print(err_param(ind))\n",
        "ind = epoch_LBFGS(ind)\n",
        "print(err_param(ind))"
      ],
      "metadata": {
        "id": "7g371PuTF4tD"
      },
      "execution_count": null,
      "outputs": []
    },
    {
      "cell_type": "code",
      "source": [
        "max_evals = len(dls.train)*20*10\n",
        "print(max_evals)"
      ],
      "metadata": {
        "colab": {
          "base_uri": "https://localhost:8080/"
        },
        "id": "ifdKnORLVUhq",
        "outputId": "3b470041-4624-4205-d2a5-3815ac9d0a14"
      },
      "execution_count": null,
      "outputs": [
        {
          "output_type": "stream",
          "name": "stdout",
          "text": [
            "14600\n"
          ]
        }
      ]
    },
    {
      "cell_type": "code",
      "source": [
        "len(dls.valid)"
      ],
      "metadata": {
        "colab": {
          "base_uri": "https://localhost:8080/"
        },
        "id": "dS-_a7jVf6OG",
        "outputId": "ed6f7220-6c89-4895-b6d3-a0ef36c4c04a"
      },
      "execution_count": null,
      "outputs": [
        {
          "output_type": "execute_result",
          "data": {
            "text/plain": [
              "79"
            ]
          },
          "metadata": {},
          "execution_count": 19
        }
      ]
    },
    {
      "cell_type": "code",
      "source": [
        "#batch = dls.train.one_batch()\n",
        "#population = [get_params_from_model(ResNet12WithBottlenecks(num_classes=10)) for _ in range(10)]\n",
        "#fitness = [test_err_param(elem, batch) for elem in population]\n",
        "\n",
        "res = SHADE_ej(population, fitness, 10, 100, len(population[0]), dls, res[2], res[3], res[4])"
      ],
      "metadata": {
        "colab": {
          "base_uri": "https://localhost:8080/"
        },
        "id": "kvgWc7l0UC2d",
        "outputId": "ae9a4f7f-f868-4a2a-fd0b-35617b113ef4"
      },
      "execution_count": null,
      "outputs": [
        {
          "output_type": "stream",
          "name": "stderr",
          "text": [
            "<ipython-input-3-5410764ad5d9>:67: UserWarning: To copy construct from a tensor, it is recommended to use sourceTensor.clone().detach() or sourceTensor.clone().detach().requires_grad_(True), rather than torch.tensor(sourceTensor).\n",
            "  pred = torch.tensor(pred.clone().detach())#.to('cuda')\n",
            "<ipython-input-3-5410764ad5d9>:68: UserWarning: To copy construct from a tensor, it is recommended to use sourceTensor.clone().detach() or sourceTensor.clone().detach().requires_grad_(True), rather than torch.tensor(sourceTensor).\n",
            "  target = torch.tensor(batch[1].squeeze().long().clone().detach())#.to('cuda')\n"
          ]
        }
      ]
    },
    {
      "cell_type": "code",
      "source": [
        "res[1]"
      ],
      "metadata": {
        "colab": {
          "base_uri": "https://localhost:8080/"
        },
        "id": "DdgGWA5HaKoL",
        "outputId": "2559d1cf-38d2-49d1-d701-248979aa517b"
      },
      "execution_count": null,
      "outputs": [
        {
          "output_type": "execute_result",
          "data": {
            "text/plain": [
              "array([2.45542264, 2.45287633, 2.40922809, 2.48893261, 2.43574905,\n",
              "       2.5562706 , 2.43299413, 2.42248034, 2.4516921 , 2.44551945])"
            ]
          },
          "metadata": {},
          "execution_count": 16
        }
      ]
    },
    {
      "cell_type": "code",
      "source": [
        "len(dls.valid)"
      ],
      "metadata": {
        "colab": {
          "base_uri": "https://localhost:8080/"
        },
        "id": "_NyMmKQYb7qH",
        "outputId": "7467c8a0-fb47-412e-fcaf-05f6a9ea2792"
      },
      "execution_count": null,
      "outputs": [
        {
          "output_type": "execute_result",
          "data": {
            "text/plain": [
              "31"
            ]
          },
          "metadata": {},
          "execution_count": 37
        }
      ]
    },
    {
      "cell_type": "code",
      "source": [
        "#Algoritmo SHADE-ILS\n",
        "from collections import deque\n",
        "#layers=[1024, 1024,512, 512, 256, 256, 128, 128, 64, 64, 32, 32, 8, 8, 4]\n",
        "layers=[32]\n",
        "\n",
        "#layers=[32]\n",
        "\n",
        "\n",
        "population_size = 10\n",
        "evals = 0\n",
        "epochs= 20\n",
        "max_evals = len(dls.train)*20\n",
        "max_evals_SHADE = 250\n",
        "prevm_cr=0\n",
        "prevm_f=0\n",
        "must_restart=False\n",
        "improq = deque([1,1,1], maxlen=3)\n",
        "batch = dls.train.one_batch()\n",
        "\n",
        "#Initialize the population\n",
        "population = [get_params_from_model(ResNet12WithBottlenecks(num_classes=10)) for _ in range(population_size)]\n",
        "fitness = [err_param_valid(elem) for elem in population]\n",
        "evals += population_size\n",
        "size_ind=len(population[0])\n",
        "\n",
        "#Select the best\n",
        "current_best_index = fitness.index(np.min(fitness))\n",
        "current_best_fitness = population[current_best_index]\n",
        "current_best = population[current_best_index]\n",
        "\n",
        "temp_current_best, temp_current_best_fitness, e1, e2 = LBFGS_SCIPY(current_best)\n",
        "evals += e1 + e2 +1\n",
        "\n",
        "temp_current_best_fitness = err_param_valid(temp_current_best)\n",
        "improq.append((current_best_fitness-temp_current_best_fitness)/current_best_fitness)\n",
        "\n",
        "if temp_current_best_fitness < current_best_fitness:\n",
        "  current_best_fitness = temp_current_best_fitness\n",
        "  current_best = temp_current_best\n",
        "\n",
        "\n",
        "population[current_best_index] = current_best\n",
        "fitness[current_best_index] = current_best_fitness\n",
        "\n",
        "best_solution=current_best\n",
        "best_fitness=current_best_fitness\n",
        "k=0\n",
        "while evals < max_evals:\n",
        "  print(\"eo\")\n",
        "  population, fitness, prevm_cr, prevm_f, k = SHADE_ej(population, fitness, population_size, max_evals_SHADE, size_ind, dls, prevm_cr=prevm_cr, prevm_f=prevm_f,k=k)\n",
        "  evals += max_evals_SHADE + 1\n",
        "\n",
        "  fitness = [err_param_valid(ind) for ind in population]\n",
        "  temp_current_best_fitness = np.min(fitness)\n",
        "  temp_current_best_index = fitness.index(temp_current_best_fitness)\n",
        "  temp_current_best = population[temp_current_best_index]\n",
        "\n",
        "\n",
        "  improq.append((current_best_fitness-temp_current_best_fitness)/current_best_fitness)\n",
        "\n",
        "  current_best_fitness = temp_current_best_fitness\n",
        "  current_best_index = temp_current_best_index\n",
        "  current_best = temp_current_best\n",
        "\n",
        "\n",
        "\n",
        "  print(improq)\n",
        "  if np.all(np.array(improq)<0.05):\n",
        "    must_restart=True\n",
        "\n",
        "  #Choose the LS method to apply this iteration based on improvement\n",
        "\n",
        "  temp_current_best, temp_current_best_fitness, e1, e2 = LBFGS_SCIPY(current_best)\n",
        "  evals += e1 + e2 +1\n",
        "\n",
        "  temp_current_best_fitness = err_param_valid(temp_current_best)\n",
        "  improq.append((current_best_fitness-temp_current_best_fitness)/current_best_fitness)\n",
        "\n",
        "  current_best_fitness = temp_current_best_fitness\n",
        "  current_best = temp_current_best\n",
        "\n",
        "\n",
        "  print(improq)\n",
        "  if np.all(np.array(improq)<0.05):\n",
        "    must_restart=True\n",
        "\n",
        "  population[current_best_index] = current_best\n",
        "  fitness[current_best_index] = current_best_fitness\n",
        "\n",
        "  #Update the probability to apply LS in next iterations\n",
        "\n",
        "  if current_best_fitness < best_fitness:\n",
        "    best_fitness = np.copy(current_best_fitness)\n",
        "    best_solution = np.copy(current_best)\n",
        "\n",
        "  if must_restart:\n",
        "    random_index = np.random.choice(population_size)\n",
        "    sol = population[random_index]\n",
        "    sol += np.random.normal(0, 0.02, len(sol))\n",
        "\n",
        "    population = [get_params_from_model(ResNet12WithBottlenecks(num_classes=10)) for _ in range(population_size-1)]\n",
        "    k=0\n",
        "    prevm_cr=0\n",
        "    prevm_f=0\n",
        "    batch = dls.train.one_batch()\n",
        "    fitness = [err_param_valid(elem) for elem in population]\n",
        "    evals += population_size+1\n",
        "    population.append(sol)\n",
        "    current_best_fitness=err_param_valid(sol)\n",
        "    current_best=sol\n",
        "    fitness.append(current_best_fitness)\n",
        "    improq=deque([1,1,1], maxlen=3)\n",
        "\n",
        "    print(\"Reiniciado\")\n",
        "    must_restart=False\n"
      ],
      "metadata": {
        "id": "CKGpAwT2n-ME",
        "colab": {
          "base_uri": "https://localhost:8080/",
          "height": 216
        },
        "outputId": "6fab6f27-5deb-4398-b93d-ae13be5ff09d"
      },
      "execution_count": null,
      "outputs": [
        {
          "output_type": "error",
          "ename": "NameError",
          "evalue": "name 'dls' is not defined",
          "traceback": [
            "\u001b[0;31m---------------------------------------------------------------------------\u001b[0m",
            "\u001b[0;31mNameError\u001b[0m                                 Traceback (most recent call last)",
            "\u001b[0;32m<ipython-input-1-71fe32262492>\u001b[0m in \u001b[0;36m<cell line: 12>\u001b[0;34m()\u001b[0m\n\u001b[1;32m     10\u001b[0m \u001b[0mevals\u001b[0m \u001b[0;34m=\u001b[0m \u001b[0;36m0\u001b[0m\u001b[0;34m\u001b[0m\u001b[0;34m\u001b[0m\u001b[0m\n\u001b[1;32m     11\u001b[0m \u001b[0mepochs\u001b[0m\u001b[0;34m=\u001b[0m \u001b[0;36m20\u001b[0m\u001b[0;34m\u001b[0m\u001b[0;34m\u001b[0m\u001b[0m\n\u001b[0;32m---> 12\u001b[0;31m \u001b[0mmax_evals\u001b[0m \u001b[0;34m=\u001b[0m \u001b[0mlen\u001b[0m\u001b[0;34m(\u001b[0m\u001b[0mdls\u001b[0m\u001b[0;34m.\u001b[0m\u001b[0mtrain\u001b[0m\u001b[0;34m)\u001b[0m\u001b[0;34m*\u001b[0m\u001b[0;36m20\u001b[0m\u001b[0;34m\u001b[0m\u001b[0;34m\u001b[0m\u001b[0m\n\u001b[0m\u001b[1;32m     13\u001b[0m \u001b[0mmax_evals_SHADE\u001b[0m \u001b[0;34m=\u001b[0m \u001b[0;36m250\u001b[0m\u001b[0;34m\u001b[0m\u001b[0;34m\u001b[0m\u001b[0m\n\u001b[1;32m     14\u001b[0m \u001b[0mprevm_cr\u001b[0m\u001b[0;34m=\u001b[0m\u001b[0;36m0\u001b[0m\u001b[0;34m\u001b[0m\u001b[0;34m\u001b[0m\u001b[0m\n",
            "\u001b[0;31mNameError\u001b[0m: name 'dls' is not defined"
          ]
        }
      ]
    },
    {
      "cell_type": "code",
      "source": [
        "print(evals)"
      ],
      "metadata": {
        "colab": {
          "base_uri": "https://localhost:8080/"
        },
        "id": "3qy1eik79KUH",
        "outputId": "f1764350-a961-469b-a53f-6772c7c976ff"
      },
      "execution_count": null,
      "outputs": [
        {
          "output_type": "stream",
          "name": "stdout",
          "text": [
            "3039\n"
          ]
        }
      ]
    },
    {
      "cell_type": "code",
      "source": [],
      "metadata": {
        "colab": {
          "base_uri": "https://localhost:8080/"
        },
        "id": "8uYBnSTFSo1B",
        "outputId": "e5441811-4f35-4e67-adb3-14203f137f2b"
      },
      "execution_count": null,
      "outputs": [
        {
          "output_type": "execute_result",
          "data": {
            "text/plain": [
              "list"
            ]
          },
          "metadata": {},
          "execution_count": 22
        }
      ]
    },
    {
      "cell_type": "markdown",
      "source": [
        "Tengo que ver como hago lo de las epochs. Dos opciones: muchas iteraciones totales (nepochxnbatchesxnpob) con la funcion de error que calcule solo el error de un batch (esto tiene problemas a la hora de la comparacion y de implementar pq tengo q arrastrar mucho.\n",
        "\n",
        "O bien hago una funcion de eval que evalúe todo el batch con menos epochs (aun asi aquí 400 evaluaciones serían unas 6 horas)\n",
        "\n",
        "Idea: puedo usar el error batch entero en SHADE, usar el parcial en LBFGS y me como 20~40 iteraciones del tiron, y luego al final lo vuelvo a calcular con todo el batch."
      ],
      "metadata": {
        "id": "w9eAOy5bvjSk"
      }
    }
  ]
}